{
 "cells": [
  {
   "cell_type": "markdown",
   "metadata": {},
   "source": [
    "# Experiment Two\n",
    "This is the second experiment using two convolutional layers and no augmentation."
   ]
  },
  {
   "cell_type": "code",
   "execution_count": 1,
   "metadata": {},
   "outputs": [],
   "source": [
    "# model training using tensorflow\n",
    "import numpy as np\n",
    "import os\n",
    "import cv2\n",
    "from matplotlib import pyplot\n",
    "\n",
    "import tensorflow as tf\n",
    "\n",
    "from tensorflow import keras\n",
    "from tensorflow.keras import layers\n",
    "from tensorflow.keras.models import Sequential"
   ]
  },
  {
   "cell_type": "code",
   "execution_count": 2,
   "metadata": {},
   "outputs": [
    {
     "name": "stdout",
     "output_type": "stream",
     "text": [
      "Num GPUs Available:  1\n",
      "0\n"
     ]
    }
   ],
   "source": [
    "'''\n",
    "Configuration Code\n",
    "'''\n",
    "def get_n_cores():\n",
    "    \"\"\"The NSLOTS variable, If NSLOTS is not defined throw an exception.\"\"\"\n",
    "    nslots = os.getenv(\"NSLOTS\")\n",
    "    if nslots is not None:\n",
    "        return int(nslots)\n",
    "    raise ValueError(\"Environment variable NSLOTS is not defined.\")\n",
    "\n",
    "\n",
    "os.environ[\"TF_CPP_MIN_LOG_LEVEL\"] = \"3\"\n",
    "\n",
    "NUM_GPUS = len(tf.config.experimental.list_physical_devices(\"GPU\"))\n",
    "print(\"Num GPUs Available: \", NUM_GPUS)\n",
    "if NUM_GPUS > 0:\n",
    "    print(os.getenv(\"CUDA_VISIBLE_DEVICES\"))\n",
    "\n",
    "tf.config.set_soft_device_placement(True)\n",
    "tf.keras.backend.set_floatx(\"float32\")\n",
    "tf.config.threading.set_intra_op_parallelism_threads(1)\n",
    "tf.config.threading.set_inter_op_parallelism_threads(get_n_cores())"
   ]
  },
  {
   "cell_type": "code",
   "execution_count": 3,
   "metadata": {},
   "outputs": [
    {
     "name": "stdout",
     "output_type": "stream",
     "text": [
      "Found 2700 files belonging to 2 classes.\n",
      "Using 2160 files for training.\n"
     ]
    }
   ],
   "source": [
    "batch_size = 32\n",
    "\n",
    "DATA_DIRECTORY = os.path.join(os.getcwd(), 'train_data')\n",
    "\n",
    "size = (224,224) # height, width\n",
    "\n",
    "'''\n",
    "Load the training data\n",
    "'''\n",
    "train_ds = tf.keras.preprocessing.image_dataset_from_directory(\n",
    "  DATA_DIRECTORY,\n",
    "  validation_split=0.2,\n",
    "  subset=\"training\",\n",
    "  seed=123,\n",
    "  image_size=size,\n",
    "  batch_size=batch_size\n",
    ")"
   ]
  },
  {
   "cell_type": "code",
   "execution_count": 4,
   "metadata": {},
   "outputs": [
    {
     "name": "stdout",
     "output_type": "stream",
     "text": [
      "Found 2700 files belonging to 2 classes.\n",
      "Using 540 files for validation.\n"
     ]
    }
   ],
   "source": [
    "'''\n",
    "Load the validation data\n",
    "'''\n",
    "val_ds = tf.keras.preprocessing.image_dataset_from_directory(\n",
    "  DATA_DIRECTORY,\n",
    "  validation_split=0.2,\n",
    "  subset=\"validation\",\n",
    "  seed=123,\n",
    "  image_size=size,\n",
    "  batch_size=batch_size\n",
    ")"
   ]
  },
  {
   "cell_type": "code",
   "execution_count": 5,
   "metadata": {},
   "outputs": [],
   "source": [
    "# there are two classes\n",
    "num_classes = 2\n",
    "\n",
    "# normalize the input images\n",
    "normalization_layer = layers.experimental.preprocessing.Rescaling(1./255, input_shape=(224,224,3))\n",
    "\n",
    "model = Sequential([\n",
    "    normalization_layer,\n",
    "    layers.Conv2D(16, 3, padding='same', activation='relu'),\n",
    "    layers.MaxPooling2D(),\n",
    "    layers.Conv2D(32, 3, padding='same', activation='relu'),\n",
    "    layers.MaxPooling2D(),\n",
    "    layers.Dropout(0.2),\n",
    "    layers.Flatten(),\n",
    "    layers.Dense(32, activation='relu'),\n",
    "    layers.Dense(num_classes)\n",
    "])"
   ]
  },
  {
   "cell_type": "code",
   "execution_count": 6,
   "metadata": {},
   "outputs": [],
   "source": [
    "model.compile(optimizer='adam',\n",
    "              loss=tf.keras.losses.SparseCategoricalCrossentropy(from_logits=True),\n",
    "              metrics=['accuracy']\n",
    "             )"
   ]
  },
  {
   "cell_type": "code",
   "execution_count": 7,
   "metadata": {},
   "outputs": [
    {
     "name": "stdout",
     "output_type": "stream",
     "text": [
      "Model: \"sequential\"\n",
      "_________________________________________________________________\n",
      "Layer (type)                 Output Shape              Param #   \n",
      "=================================================================\n",
      "rescaling (Rescaling)        (None, 224, 224, 3)       0         \n",
      "_________________________________________________________________\n",
      "conv2d (Conv2D)              (None, 224, 224, 16)      448       \n",
      "_________________________________________________________________\n",
      "max_pooling2d (MaxPooling2D) (None, 112, 112, 16)      0         \n",
      "_________________________________________________________________\n",
      "conv2d_1 (Conv2D)            (None, 112, 112, 32)      4640      \n",
      "_________________________________________________________________\n",
      "max_pooling2d_1 (MaxPooling2 (None, 56, 56, 32)        0         \n",
      "_________________________________________________________________\n",
      "dropout (Dropout)            (None, 56, 56, 32)        0         \n",
      "_________________________________________________________________\n",
      "flatten (Flatten)            (None, 100352)            0         \n",
      "_________________________________________________________________\n",
      "dense (Dense)                (None, 32)                3211296   \n",
      "_________________________________________________________________\n",
      "dense_1 (Dense)              (None, 2)                 66        \n",
      "=================================================================\n",
      "Total params: 3,216,450\n",
      "Trainable params: 3,216,450\n",
      "Non-trainable params: 0\n",
      "_________________________________________________________________\n"
     ]
    }
   ],
   "source": [
    "model.summary()"
   ]
  },
  {
   "cell_type": "code",
   "execution_count": 8,
   "metadata": {
    "scrolled": true
   },
   "outputs": [
    {
     "name": "stdout",
     "output_type": "stream",
     "text": [
      "Epoch 1/100\n",
      "68/68 [==============================] - 5s 80ms/step - loss: 0.8535 - accuracy: 0.5356 - val_loss: 0.6747 - val_accuracy: 0.6130\n",
      "Epoch 2/100\n",
      "68/68 [==============================] - 4s 65ms/step - loss: 0.6378 - accuracy: 0.6870 - val_loss: 0.5905 - val_accuracy: 0.7963\n",
      "Epoch 3/100\n",
      "68/68 [==============================] - 4s 64ms/step - loss: 0.5089 - accuracy: 0.8185 - val_loss: 0.5170 - val_accuracy: 0.8556\n",
      "Epoch 4/100\n",
      "68/68 [==============================] - 5s 71ms/step - loss: 0.4220 - accuracy: 0.8903 - val_loss: 0.4821 - val_accuracy: 0.8352\n",
      "Epoch 5/100\n",
      "68/68 [==============================] - 5s 69ms/step - loss: 0.3527 - accuracy: 0.9241 - val_loss: 0.4329 - val_accuracy: 0.8852\n",
      "Epoch 6/100\n",
      "68/68 [==============================] - 5s 71ms/step - loss: 0.3140 - accuracy: 0.9472 - val_loss: 0.4245 - val_accuracy: 0.8852\n",
      "Epoch 7/100\n",
      "68/68 [==============================] - 5s 68ms/step - loss: 0.2575 - accuracy: 0.9722 - val_loss: 0.4102 - val_accuracy: 0.9037\n",
      "Epoch 8/100\n",
      "68/68 [==============================] - 5s 72ms/step - loss: 0.2218 - accuracy: 0.9833 - val_loss: 0.3594 - val_accuracy: 0.9093\n",
      "Epoch 9/100\n",
      "68/68 [==============================] - 4s 65ms/step - loss: 0.1987 - accuracy: 0.9870 - val_loss: 0.3953 - val_accuracy: 0.9111\n",
      "Epoch 10/100\n",
      "68/68 [==============================] - 5s 69ms/step - loss: 0.1744 - accuracy: 0.9935 - val_loss: 0.3894 - val_accuracy: 0.9074\n",
      "Epoch 11/100\n",
      "68/68 [==============================] - 5s 72ms/step - loss: 0.1613 - accuracy: 0.9907 - val_loss: 0.4084 - val_accuracy: 0.8944\n"
     ]
    }
   ],
   "source": [
    "epochs=100\n",
    "\n",
    "# stop when the validation loss does not improve\n",
    "callback = tf.keras.callbacks.EarlyStopping(monitor='val_loss', patience=3)\n",
    "\n",
    "history = model.fit(\n",
    "    train_ds,\n",
    "    validation_data=val_ds,\n",
    "    epochs=epochs,\n",
    "    callbacks=[callback]\n",
    ")"
   ]
  },
  {
   "cell_type": "code",
   "execution_count": 11,
   "metadata": {
    "scrolled": false
   },
   "outputs": [
    {
     "data": {
      "image/png": "[encoded data removed]",
      "text/plain": [
       "<Figure size 432x288 with 1 Axes>"
      ]
     },
     "metadata": {
      "needs_background": "light"
     },
     "output_type": "display_data"
    }
   ],
   "source": [
    "'''\n",
    "Plot the accuracy\n",
    "'''\n",
    "pyplot.title(\"Accuracy\")\n",
    "pyplot.plot(range(len(history.history['accuracy'])), history.history['accuracy'], label = \"Train\")\n",
    "pyplot.plot(range(len(history.history['val_accuracy'])), history.history['val_accuracy'], label = \"Validation\")\n",
    "pyplot.ylim((0.))\n",
    "pyplot.legend()\n",
    "pyplot.show()"
   ]
  },
  {
   "cell_type": "code",
   "execution_count": 10,
   "metadata": {},
   "outputs": [
    {
     "name": "stdout",
     "output_type": "stream",
     "text": [
      "WARNING:tensorflow:From /share/pkg.7/tensorflow/2.3.1/install/lib/SCC/../python3.8/site-packages/tensorflow/python/training/tracking/tracking.py:111: Model.state_updates (from tensorflow.python.keras.engine.training) is deprecated and will be removed in a future version.\n",
      "Instructions for updating:\n",
      "This property should not be used in TensorFlow 2.0, as updates are applied automatically.\n",
      "WARNING:tensorflow:From /share/pkg.7/tensorflow/2.3.1/install/lib/SCC/../python3.8/site-packages/tensorflow/python/training/tracking/tracking.py:111: Layer.updates (from tensorflow.python.keras.engine.base_layer) is deprecated and will be removed in a future version.\n",
      "Instructions for updating:\n",
      "This property should not be used in TensorFlow 2.0, as updates are applied automatically.\n",
      "INFO:tensorflow:Assets written to: models/experiment_002/assets\n"
     ]
    }
   ],
   "source": [
    "model.save('models/experiment_002')"
   ]
  },
  {
   "cell_type": "code",
   "execution_count": null,
   "metadata": {},
   "outputs": [],
   "source": []
  }
 ],
 "metadata": {
  "kernelspec": {
   "display_name": "Python 3",
   "language": "python",
   "name": "python3"
  },
  "language_info": {
   "codemirror_mode": {
    "name": "ipython",
    "version": 3
   },
   "file_extension": ".py",
   "mimetype": "text/x-python",
   "name": "python",
   "nbconvert_exporter": "python",
   "pygments_lexer": "ipython3",
   "version": "3.8.6"
  }
 },
 "nbformat": 4,
 "nbformat_minor": 4
}
