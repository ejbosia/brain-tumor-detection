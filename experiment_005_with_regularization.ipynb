{
 "cells": [
  {
   "cell_type": "markdown",
   "metadata": {},
   "source": [
    "# Experiment 5 with Regularization\n",
    "Apply transfer learning to MobileNetV2 (trained on ImageNet) with data augmentation and l1 regularization"
   ]
  },
  {
   "cell_type": "code",
   "execution_count": 1,
   "metadata": {},
   "outputs": [],
   "source": [
    "# model training using tensorflow\n",
    "import numpy as np\n",
    "import os\n",
    "import cv2\n",
    "from matplotlib import pyplot\n",
    "\n",
    "import tensorflow as tf\n",
    "\n",
    "from tensorflow import keras\n",
    "from tensorflow.keras import layers\n",
    "from tensorflow.keras.models import Sequential"
   ]
  },
  {
   "cell_type": "code",
   "execution_count": 2,
   "metadata": {},
   "outputs": [
    {
     "name": "stdout",
     "output_type": "stream",
     "text": [
      "Num GPUs Available:  1\n",
      "0\n"
     ]
    }
   ],
   "source": [
    "'''\n",
    "Configuration Code\n",
    "'''\n",
    "def get_n_cores():\n",
    "    \"\"\"The NSLOTS variable, If NSLOTS is not defined throw an exception.\"\"\"\n",
    "    nslots = os.getenv(\"NSLOTS\")\n",
    "    if nslots is not None:\n",
    "        return int(nslots)\n",
    "    raise ValueError(\"Environment variable NSLOTS is not defined.\")\n",
    "\n",
    "\n",
    "os.environ[\"TF_CPP_MIN_LOG_LEVEL\"] = \"3\"\n",
    "\n",
    "NUM_GPUS = len(tf.config.experimental.list_physical_devices(\"GPU\"))\n",
    "print(\"Num GPUs Available: \", NUM_GPUS)\n",
    "if NUM_GPUS > 0:\n",
    "    print(os.getenv(\"CUDA_VISIBLE_DEVICES\"))\n",
    "\n",
    "tf.config.set_soft_device_placement(True)\n",
    "tf.keras.backend.set_floatx(\"float32\")\n",
    "tf.config.threading.set_intra_op_parallelism_threads(1)\n",
    "tf.config.threading.set_inter_op_parallelism_threads(get_n_cores())"
   ]
  },
  {
   "cell_type": "code",
   "execution_count": 3,
   "metadata": {},
   "outputs": [
    {
     "name": "stdout",
     "output_type": "stream",
     "text": [
      "Found 2700 files belonging to 2 classes.\n",
      "Using 2160 files for training.\n"
     ]
    }
   ],
   "source": [
    "batch_size = 32\n",
    "\n",
    "DATA_DIRECTORY = os.path.join(os.getcwd(), 'train_data')\n",
    "\n",
    "size = (224,224) # height, width\n",
    "\n",
    "train_ds = tf.keras.preprocessing.image_dataset_from_directory(\n",
    "  DATA_DIRECTORY,\n",
    "  validation_split=0.2,\n",
    "  subset=\"training\",\n",
    "  seed=123,\n",
    "  image_size=size,\n",
    "  batch_size=batch_size\n",
    ")"
   ]
  },
  {
   "cell_type": "code",
   "execution_count": 4,
   "metadata": {
    "scrolled": true
   },
   "outputs": [
    {
     "name": "stdout",
     "output_type": "stream",
     "text": [
      "Found 2700 files belonging to 2 classes.\n",
      "Using 540 files for validation.\n"
     ]
    }
   ],
   "source": [
    "val_ds = tf.keras.preprocessing.image_dataset_from_directory(\n",
    "  DATA_DIRECTORY,\n",
    "  validation_split=0.2,\n",
    "  subset=\"validation\",\n",
    "  seed=123,\n",
    "  image_size=size,\n",
    "  batch_size=batch_size\n",
    ")"
   ]
  },
  {
   "cell_type": "code",
   "execution_count": 6,
   "metadata": {},
   "outputs": [],
   "source": [
    "'''\n",
    "Set the base model to MobileNetV2 (trained on ImageNet)\n",
    "'''\n",
    "IMG_SHAPE = size + (3,)\n",
    "base_model = tf.keras.applications.MobileNetV2(input_shape=IMG_SHAPE,\n",
    "                                               include_top=False,\n",
    "                                               weights='imagenet')"
   ]
  },
  {
   "cell_type": "code",
   "execution_count": 7,
   "metadata": {},
   "outputs": [],
   "source": [
    "# do not allow the NN to train the base network\n",
    "base_model.trainable = False"
   ]
  },
  {
   "cell_type": "code",
   "execution_count": 8,
   "metadata": {},
   "outputs": [],
   "source": [
    "# create the additional layers for the end\n",
    "global_average_layer = tf.keras.layers.GlobalAveragePooling2D()\n",
    "prediction_layer = tf.keras.layers.Dense(2, kernel_regularizer='l1')"
   ]
  },
  {
   "cell_type": "code",
   "execution_count": 9,
   "metadata": {},
   "outputs": [],
   "source": [
    "normalization_layer = layers.experimental.preprocessing.Rescaling(1./255, input_shape=(224,224,3))"
   ]
  },
  {
   "cell_type": "code",
   "execution_count": 10,
   "metadata": {
    "scrolled": false
   },
   "outputs": [],
   "source": [
    "data_augmentation = keras.Sequential(\n",
    "  [\n",
    "    layers.experimental.preprocessing.RandomFlip(\"horizontal\", input_shape=(224,224,3)),\n",
    "    layers.experimental.preprocessing.RandomFlip(\"vertical\", input_shape=(224,224,3)),\n",
    "    layers.experimental.preprocessing.RandomRotation(0.1),\n",
    "    layers.experimental.preprocessing.RandomZoom(0.1),\n",
    "  ]\n",
    ")"
   ]
  },
  {
   "cell_type": "code",
   "execution_count": 11,
   "metadata": {},
   "outputs": [],
   "source": [
    "# chain the layers together to make the complete model\n",
    "inputs = tf.keras.Input(shape=(224, 224, 3))\n",
    "x = normalization_layer(inputs)\n",
    "x = data_augmentation(x)\n",
    "x = base_model(x, training=False)\n",
    "x = global_average_layer(x)\n",
    "x = tf.keras.layers.Dropout(0.2)(x)\n",
    "outputs = prediction_layer(x)\n",
    "model = tf.keras.Model(inputs, outputs)"
   ]
  },
  {
   "cell_type": "code",
   "execution_count": 12,
   "metadata": {},
   "outputs": [],
   "source": [
    "# we need a low learning rate to avoid overfitting\n",
    "base_learning_rate = 0.0001\n",
    "\n",
    "model.compile(\n",
    "    optimizer=tf.keras.optimizers.Adam(lr=base_learning_rate),\n",
    "    loss=tf.keras.losses.SparseCategoricalCrossentropy(from_logits=True),\n",
    "    metrics=['accuracy']\n",
    ")"
   ]
  },
  {
   "cell_type": "code",
   "execution_count": 13,
   "metadata": {
    "scrolled": true
   },
   "outputs": [
    {
     "name": "stdout",
     "output_type": "stream",
     "text": [
      "Epoch 1/200\n",
      "68/68 [==============================] - 39s 572ms/step - loss: 1.5910 - accuracy: 0.5921 - val_loss: 1.4473 - val_accuracy: 0.6722\n",
      "Epoch 2/200\n",
      "68/68 [==============================] - 5s 76ms/step - loss: 1.4052 - accuracy: 0.6889 - val_loss: 1.3073 - val_accuracy: 0.7593\n",
      "Epoch 3/200\n",
      "68/68 [==============================] - 5s 79ms/step - loss: 1.3096 - accuracy: 0.7282 - val_loss: 1.1975 - val_accuracy: 0.8056\n",
      "Epoch 4/200\n",
      "68/68 [==============================] - 5s 78ms/step - loss: 1.1874 - accuracy: 0.7801 - val_loss: 1.1126 - val_accuracy: 0.8352\n",
      "Epoch 5/200\n",
      "68/68 [==============================] - 5s 78ms/step - loss: 1.1145 - accuracy: 0.8000 - val_loss: 1.0386 - val_accuracy: 0.8500\n",
      "Epoch 6/200\n",
      "68/68 [==============================] - 5s 77ms/step - loss: 1.0356 - accuracy: 0.8269 - val_loss: 0.9737 - val_accuracy: 0.8593\n",
      "Epoch 7/200\n",
      "68/68 [==============================] - 5s 78ms/step - loss: 0.9889 - accuracy: 0.8296 - val_loss: 0.9173 - val_accuracy: 0.8685\n",
      "Epoch 8/200\n",
      "68/68 [==============================] - 5s 77ms/step - loss: 0.9230 - accuracy: 0.8361 - val_loss: 0.8675 - val_accuracy: 0.8704\n",
      "Epoch 9/200\n",
      "68/68 [==============================] - 5s 78ms/step - loss: 0.8824 - accuracy: 0.8394 - val_loss: 0.8207 - val_accuracy: 0.8796\n",
      "Epoch 10/200\n",
      "68/68 [==============================] - 5s 77ms/step - loss: 0.8196 - accuracy: 0.8639 - val_loss: 0.7792 - val_accuracy: 0.8889\n",
      "Epoch 11/200\n",
      "68/68 [==============================] - 7s 103ms/step - loss: 0.7791 - accuracy: 0.8731 - val_loss: 0.7444 - val_accuracy: 0.8944\n",
      "Epoch 12/200\n",
      "68/68 [==============================] - 5s 74ms/step - loss: 0.7512 - accuracy: 0.8782 - val_loss: 0.7133 - val_accuracy: 0.8981\n",
      "Epoch 13/200\n",
      "68/68 [==============================] - 5s 76ms/step - loss: 0.7240 - accuracy: 0.8778 - val_loss: 0.6877 - val_accuracy: 0.9019\n",
      "Epoch 14/200\n",
      "68/68 [==============================] - 5s 74ms/step - loss: 0.6888 - accuracy: 0.8829 - val_loss: 0.6597 - val_accuracy: 0.9037\n",
      "Epoch 15/200\n",
      "68/68 [==============================] - 5s 70ms/step - loss: 0.6671 - accuracy: 0.8829 - val_loss: 0.6385 - val_accuracy: 0.9056\n",
      "Epoch 16/200\n",
      "68/68 [==============================] - 5s 69ms/step - loss: 0.6517 - accuracy: 0.8676 - val_loss: 0.6181 - val_accuracy: 0.9074\n",
      "Epoch 17/200\n",
      "68/68 [==============================] - 5s 74ms/step - loss: 0.6219 - accuracy: 0.8875 - val_loss: 0.5961 - val_accuracy: 0.9111\n",
      "Epoch 18/200\n",
      "68/68 [==============================] - 5s 78ms/step - loss: 0.6132 - accuracy: 0.8898 - val_loss: 0.5799 - val_accuracy: 0.9093\n",
      "Epoch 19/200\n",
      "68/68 [==============================] - 5s 74ms/step - loss: 0.5983 - accuracy: 0.8921 - val_loss: 0.5657 - val_accuracy: 0.9111\n",
      "Epoch 20/200\n",
      "68/68 [==============================] - 5s 69ms/step - loss: 0.5783 - accuracy: 0.8903 - val_loss: 0.5528 - val_accuracy: 0.9111\n",
      "Epoch 21/200\n",
      "68/68 [==============================] - 5s 76ms/step - loss: 0.5631 - accuracy: 0.8898 - val_loss: 0.5394 - val_accuracy: 0.9111\n",
      "Epoch 22/200\n",
      "68/68 [==============================] - 9s 134ms/step - loss: 0.5573 - accuracy: 0.8949 - val_loss: 0.5297 - val_accuracy: 0.9148\n",
      "Epoch 23/200\n",
      "68/68 [==============================] - 5s 73ms/step - loss: 0.5436 - accuracy: 0.8958 - val_loss: 0.5185 - val_accuracy: 0.9111\n",
      "Epoch 24/200\n",
      "68/68 [==============================] - 5s 73ms/step - loss: 0.5220 - accuracy: 0.8931 - val_loss: 0.5073 - val_accuracy: 0.9111\n",
      "Epoch 25/200\n",
      "68/68 [==============================] - 5s 75ms/step - loss: 0.4987 - accuracy: 0.9097 - val_loss: 0.4993 - val_accuracy: 0.9130\n",
      "Epoch 26/200\n",
      "68/68 [==============================] - 5s 73ms/step - loss: 0.5036 - accuracy: 0.8968 - val_loss: 0.4924 - val_accuracy: 0.9185\n",
      "Epoch 27/200\n",
      "68/68 [==============================] - 5s 74ms/step - loss: 0.5082 - accuracy: 0.8981 - val_loss: 0.4848 - val_accuracy: 0.9222\n",
      "Epoch 28/200\n",
      "68/68 [==============================] - 5s 76ms/step - loss: 0.4884 - accuracy: 0.9056 - val_loss: 0.4770 - val_accuracy: 0.9185\n",
      "Epoch 29/200\n",
      "68/68 [==============================] - 5s 75ms/step - loss: 0.4910 - accuracy: 0.8926 - val_loss: 0.4764 - val_accuracy: 0.9185\n",
      "Epoch 30/200\n",
      "68/68 [==============================] - 6s 83ms/step - loss: 0.4818 - accuracy: 0.9009 - val_loss: 0.4658 - val_accuracy: 0.9204\n",
      "Epoch 31/200\n",
      "68/68 [==============================] - 5s 76ms/step - loss: 0.4709 - accuracy: 0.9028 - val_loss: 0.4590 - val_accuracy: 0.9241\n",
      "Epoch 32/200\n",
      "68/68 [==============================] - 5s 74ms/step - loss: 0.4610 - accuracy: 0.9023 - val_loss: 0.4510 - val_accuracy: 0.9148\n",
      "Epoch 33/200\n",
      "68/68 [==============================] - 5s 73ms/step - loss: 0.4595 - accuracy: 0.9028 - val_loss: 0.4497 - val_accuracy: 0.9241\n",
      "Epoch 34/200\n",
      "68/68 [==============================] - 5s 75ms/step - loss: 0.4630 - accuracy: 0.8949 - val_loss: 0.4463 - val_accuracy: 0.9259\n",
      "Epoch 35/200\n",
      "68/68 [==============================] - 5s 73ms/step - loss: 0.4523 - accuracy: 0.9088 - val_loss: 0.4394 - val_accuracy: 0.9204\n",
      "Epoch 36/200\n",
      "68/68 [==============================] - 5s 75ms/step - loss: 0.4466 - accuracy: 0.9102 - val_loss: 0.4348 - val_accuracy: 0.9167\n",
      "Epoch 37/200\n",
      "68/68 [==============================] - 5s 75ms/step - loss: 0.4354 - accuracy: 0.9157 - val_loss: 0.4332 - val_accuracy: 0.9241\n",
      "Epoch 38/200\n",
      "68/68 [==============================] - 5s 72ms/step - loss: 0.4322 - accuracy: 0.9130 - val_loss: 0.4282 - val_accuracy: 0.9185\n",
      "Epoch 39/200\n",
      "68/68 [==============================] - 5s 74ms/step - loss: 0.4439 - accuracy: 0.9028 - val_loss: 0.4286 - val_accuracy: 0.9278\n",
      "Epoch 40/200\n",
      "68/68 [==============================] - 5s 79ms/step - loss: 0.4300 - accuracy: 0.9162 - val_loss: 0.4268 - val_accuracy: 0.9259\n",
      "Epoch 41/200\n",
      "68/68 [==============================] - 5s 74ms/step - loss: 0.4353 - accuracy: 0.9014 - val_loss: 0.4265 - val_accuracy: 0.9241\n",
      "Epoch 42/200\n",
      "68/68 [==============================] - 5s 75ms/step - loss: 0.4354 - accuracy: 0.9093 - val_loss: 0.4215 - val_accuracy: 0.9241\n",
      "Epoch 43/200\n",
      "68/68 [==============================] - 5s 75ms/step - loss: 0.4311 - accuracy: 0.9046 - val_loss: 0.4223 - val_accuracy: 0.9222\n",
      "Epoch 44/200\n",
      "68/68 [==============================] - 5s 78ms/step - loss: 0.4198 - accuracy: 0.9125 - val_loss: 0.4177 - val_accuracy: 0.9259\n",
      "Epoch 45/200\n",
      "68/68 [==============================] - 5s 75ms/step - loss: 0.4301 - accuracy: 0.9079 - val_loss: 0.4138 - val_accuracy: 0.9204\n",
      "Epoch 46/200\n",
      "68/68 [==============================] - 5s 77ms/step - loss: 0.4235 - accuracy: 0.9074 - val_loss: 0.4112 - val_accuracy: 0.9204\n",
      "Epoch 47/200\n",
      "68/68 [==============================] - 5s 78ms/step - loss: 0.4177 - accuracy: 0.9032 - val_loss: 0.4121 - val_accuracy: 0.9185\n",
      "Epoch 48/200\n",
      "68/68 [==============================] - 5s 76ms/step - loss: 0.4127 - accuracy: 0.9097 - val_loss: 0.4117 - val_accuracy: 0.9222\n",
      "Epoch 49/200\n",
      "68/68 [==============================] - 5s 79ms/step - loss: 0.4194 - accuracy: 0.9009 - val_loss: 0.4111 - val_accuracy: 0.9222\n",
      "Epoch 50/200\n",
      "68/68 [==============================] - 5s 78ms/step - loss: 0.4187 - accuracy: 0.9120 - val_loss: 0.4082 - val_accuracy: 0.9204\n",
      "Epoch 51/200\n",
      "68/68 [==============================] - 6s 82ms/step - loss: 0.4165 - accuracy: 0.9102 - val_loss: 0.4100 - val_accuracy: 0.9204\n",
      "Epoch 52/200\n",
      "68/68 [==============================] - 5s 79ms/step - loss: 0.4105 - accuracy: 0.9046 - val_loss: 0.4119 - val_accuracy: 0.9167\n",
      "Epoch 53/200\n",
      "68/68 [==============================] - 5s 75ms/step - loss: 0.4215 - accuracy: 0.9037 - val_loss: 0.4089 - val_accuracy: 0.9185\n",
      "Epoch 54/200\n",
      "68/68 [==============================] - 5s 75ms/step - loss: 0.4067 - accuracy: 0.9069 - val_loss: 0.4061 - val_accuracy: 0.9204\n",
      "Epoch 55/200\n",
      "68/68 [==============================] - 5s 76ms/step - loss: 0.4111 - accuracy: 0.9102 - val_loss: 0.4087 - val_accuracy: 0.9130\n",
      "Epoch 56/200\n",
      "68/68 [==============================] - 5s 77ms/step - loss: 0.4060 - accuracy: 0.9019 - val_loss: 0.4025 - val_accuracy: 0.9204\n",
      "Epoch 57/200\n",
      "68/68 [==============================] - 11s 166ms/step - loss: 0.4137 - accuracy: 0.8940 - val_loss: 0.4017 - val_accuracy: 0.9204\n",
      "Epoch 58/200\n"
     ]
    },
    {
     "name": "stdout",
     "output_type": "stream",
     "text": [
      "68/68 [==============================] - 5s 76ms/step - loss: 0.4132 - accuracy: 0.9037 - val_loss: 0.4052 - val_accuracy: 0.9148\n",
      "Epoch 59/200\n",
      "68/68 [==============================] - 5s 77ms/step - loss: 0.4011 - accuracy: 0.9088 - val_loss: 0.3985 - val_accuracy: 0.9185\n",
      "Epoch 60/200\n",
      "68/68 [==============================] - 5s 77ms/step - loss: 0.4102 - accuracy: 0.9023 - val_loss: 0.3992 - val_accuracy: 0.9167\n",
      "Epoch 61/200\n",
      "68/68 [==============================] - 5s 77ms/step - loss: 0.3979 - accuracy: 0.9093 - val_loss: 0.3949 - val_accuracy: 0.9222\n",
      "Epoch 62/200\n",
      "68/68 [==============================] - 5s 78ms/step - loss: 0.3999 - accuracy: 0.9079 - val_loss: 0.3970 - val_accuracy: 0.9185\n",
      "Epoch 63/200\n",
      "68/68 [==============================] - 5s 80ms/step - loss: 0.3995 - accuracy: 0.9130 - val_loss: 0.3993 - val_accuracy: 0.9167\n",
      "Epoch 64/200\n",
      "68/68 [==============================] - 9s 134ms/step - loss: 0.3942 - accuracy: 0.9139 - val_loss: 0.3923 - val_accuracy: 0.9185\n",
      "Epoch 65/200\n",
      "68/68 [==============================] - 5s 78ms/step - loss: 0.3976 - accuracy: 0.9148 - val_loss: 0.3959 - val_accuracy: 0.9167\n",
      "Epoch 66/200\n",
      "68/68 [==============================] - 4s 66ms/step - loss: 0.4061 - accuracy: 0.8981 - val_loss: 0.3982 - val_accuracy: 0.9148\n",
      "Epoch 67/200\n",
      "68/68 [==============================] - 4s 66ms/step - loss: 0.4086 - accuracy: 0.8995 - val_loss: 0.3963 - val_accuracy: 0.9185\n",
      "Epoch 68/200\n",
      "68/68 [==============================] - 5s 71ms/step - loss: 0.3983 - accuracy: 0.9116 - val_loss: 0.3951 - val_accuracy: 0.9185\n",
      "Epoch 69/200\n",
      "68/68 [==============================] - 5s 74ms/step - loss: 0.3971 - accuracy: 0.9097 - val_loss: 0.3925 - val_accuracy: 0.9185\n"
     ]
    }
   ],
   "source": [
    "epochs=200\n",
    "\n",
    "callback = tf.keras.callbacks.EarlyStopping(monitor='val_loss', patience=5)\n",
    "\n",
    "history = model.fit(\n",
    "    train_ds,\n",
    "    validation_data=val_ds,\n",
    "    epochs=epochs,\n",
    "    callbacks=[callback]\n",
    ")"
   ]
  },
  {
   "cell_type": "code",
   "execution_count": 14,
   "metadata": {
    "scrolled": true
   },
   "outputs": [
    {
     "data": {
      "image/png": "[encoded data removed]",
      "text/plain": [
       "<Figure size 432x288 with 1 Axes>"
      ]
     },
     "metadata": {
      "needs_background": "light"
     },
     "output_type": "display_data"
    }
   ],
   "source": [
    "'''\n",
    "Plot the accuracy\n",
    "'''\n",
    "pyplot.title(\"Accuracy\")\n",
    "pyplot.plot(range(len(history.history['accuracy'])), history.history['accuracy'], label = \"Train\")\n",
    "pyplot.plot(range(len(history.history['val_accuracy'])), history.history['val_accuracy'], label = \"Validation\")\n",
    "pyplot.ylim((0.6, 1.01))\n",
    "pyplot.legend()\n",
    "pyplot.show()"
   ]
  },
  {
   "cell_type": "code",
   "execution_count": 15,
   "metadata": {
    "scrolled": false
   },
   "outputs": [
    {
     "name": "stdout",
     "output_type": "stream",
     "text": [
      "WARNING:tensorflow:From /share/pkg.7/tensorflow/2.3.1/install/lib/SCC/../python3.8/site-packages/tensorflow/python/training/tracking/tracking.py:111: Model.state_updates (from tensorflow.python.keras.engine.training) is deprecated and will be removed in a future version.\n",
      "Instructions for updating:\n",
      "This property should not be used in TensorFlow 2.0, as updates are applied automatically.\n",
      "WARNING:tensorflow:From /share/pkg.7/tensorflow/2.3.1/install/lib/SCC/../python3.8/site-packages/tensorflow/python/training/tracking/tracking.py:111: Layer.updates (from tensorflow.python.keras.engine.base_layer) is deprecated and will be removed in a future version.\n",
      "Instructions for updating:\n",
      "This property should not be used in TensorFlow 2.0, as updates are applied automatically.\n",
      "INFO:tensorflow:Assets written to: models/experiment_005ra/assets\n"
     ]
    }
   ],
   "source": [
    "# save the model\n",
    "model.save(\"models/{}\".format(\"experiment_005ra\"))"
   ]
  },
  {
   "cell_type": "code",
   "execution_count": 16,
   "metadata": {},
   "outputs": [
    {
     "name": "stdout",
     "output_type": "stream",
     "text": [
      "Model: \"functional_1\"\n",
      "_________________________________________________________________\n",
      "Layer (type)                 Output Shape              Param #   \n",
      "=================================================================\n",
      "input_2 (InputLayer)         [(None, 224, 224, 3)]     0         \n",
      "_________________________________________________________________\n",
      "rescaling (Rescaling)        (None, 224, 224, 3)       0         \n",
      "_________________________________________________________________\n",
      "sequential (Sequential)      (None, 224, 224, 3)       0         \n",
      "_________________________________________________________________\n",
      "mobilenetv2_1.00_224 (Functi (None, 7, 7, 1280)        2257984   \n",
      "_________________________________________________________________\n",
      "global_average_pooling2d_1 ( (None, 1280)              0         \n",
      "_________________________________________________________________\n",
      "dropout (Dropout)            (None, 1280)              0         \n",
      "_________________________________________________________________\n",
      "dense_1 (Dense)              (None, 2)                 2562      \n",
      "=================================================================\n",
      "Total params: 2,260,546\n",
      "Trainable params: 2,562\n",
      "Non-trainable params: 2,257,984\n",
      "_________________________________________________________________\n"
     ]
    }
   ],
   "source": [
    "model.summary()"
   ]
  },
  {
   "cell_type": "markdown",
   "metadata": {},
   "source": [
    "Fine-tuning can hopefully improve the model still. The last 50 layers of MobileNetV2 will be unlocked to allow for gradient adjustments"
   ]
  },
  {
   "cell_type": "code",
   "execution_count": 17,
   "metadata": {},
   "outputs": [],
   "source": [
    "# change to fine tuning\n",
    "base_model.trainable = True\n",
    "\n",
    "# this is the layer to start fine tuning at\n",
    "fine_tune_at = len(base_model.layers) - 50\n",
    "\n",
    "# Freeze all the layers before the `fine_tune_at` layer\n",
    "for layer in base_model.layers[:fine_tune_at]:\n",
    "    layer.trainable =  False"
   ]
  },
  {
   "cell_type": "code",
   "execution_count": 18,
   "metadata": {},
   "outputs": [
    {
     "name": "stdout",
     "output_type": "stream",
     "text": [
      "Model: \"functional_1\"\n",
      "_________________________________________________________________\n",
      "Layer (type)                 Output Shape              Param #   \n",
      "=================================================================\n",
      "input_2 (InputLayer)         [(None, 224, 224, 3)]     0         \n",
      "_________________________________________________________________\n",
      "rescaling (Rescaling)        (None, 224, 224, 3)       0         \n",
      "_________________________________________________________________\n",
      "sequential (Sequential)      (None, 224, 224, 3)       0         \n",
      "_________________________________________________________________\n",
      "mobilenetv2_1.00_224 (Functi (None, 7, 7, 1280)        2257984   \n",
      "_________________________________________________________________\n",
      "global_average_pooling2d_1 ( (None, 1280)              0         \n",
      "_________________________________________________________________\n",
      "dropout (Dropout)            (None, 1280)              0         \n",
      "_________________________________________________________________\n",
      "dense_1 (Dense)              (None, 2)                 2562      \n",
      "=================================================================\n",
      "Total params: 2,260,546\n",
      "Trainable params: 1,857,666\n",
      "Non-trainable params: 402,880\n",
      "_________________________________________________________________\n"
     ]
    }
   ],
   "source": [
    "model.compile(loss=tf.keras.losses.SparseCategoricalCrossentropy(from_logits=True),\n",
    "              optimizer = tf.keras.optimizers.RMSprop(lr=base_learning_rate/100),\n",
    "              metrics=['accuracy'])\n",
    "\n",
    "model.summary()"
   ]
  },
  {
   "cell_type": "code",
   "execution_count": 19,
   "metadata": {},
   "outputs": [
    {
     "name": "stdout",
     "output_type": "stream",
     "text": [
      "Epoch 69/218\n",
      "68/68 [==============================] - 7s 101ms/step - loss: 0.3766 - accuracy: 0.9120 - val_loss: 0.3610 - val_accuracy: 0.9241\n",
      "Epoch 70/218\n",
      "68/68 [==============================] - 6s 85ms/step - loss: 0.3504 - accuracy: 0.9199 - val_loss: 0.3422 - val_accuracy: 0.9259\n",
      "Epoch 71/218\n",
      "68/68 [==============================] - 6s 87ms/step - loss: 0.3358 - accuracy: 0.9264 - val_loss: 0.3292 - val_accuracy: 0.9241\n",
      "Epoch 72/218\n",
      "68/68 [==============================] - 6s 85ms/step - loss: 0.3319 - accuracy: 0.9227 - val_loss: 0.3317 - val_accuracy: 0.9167\n",
      "Epoch 73/218\n",
      "68/68 [==============================] - 6s 90ms/step - loss: 0.3257 - accuracy: 0.9319 - val_loss: 0.3153 - val_accuracy: 0.9278\n",
      "Epoch 74/218\n",
      "68/68 [==============================] - 6s 89ms/step - loss: 0.3192 - accuracy: 0.9306 - val_loss: 0.3138 - val_accuracy: 0.9278\n",
      "Epoch 75/218\n",
      "68/68 [==============================] - 10s 148ms/step - loss: 0.3049 - accuracy: 0.9347 - val_loss: 0.3127 - val_accuracy: 0.9222\n",
      "Epoch 76/218\n",
      "68/68 [==============================] - 6s 88ms/step - loss: 0.3014 - accuracy: 0.9398 - val_loss: 0.3009 - val_accuracy: 0.9259\n",
      "Epoch 77/218\n",
      "68/68 [==============================] - 6s 90ms/step - loss: 0.2915 - accuracy: 0.9444 - val_loss: 0.3033 - val_accuracy: 0.9296\n",
      "Epoch 78/218\n",
      "68/68 [==============================] - 6s 91ms/step - loss: 0.3031 - accuracy: 0.9292 - val_loss: 0.2931 - val_accuracy: 0.9333\n",
      "Epoch 79/218\n",
      "68/68 [==============================] - 6s 90ms/step - loss: 0.2854 - accuracy: 0.9394 - val_loss: 0.2885 - val_accuracy: 0.9333\n",
      "Epoch 80/218\n",
      "68/68 [==============================] - 6s 91ms/step - loss: 0.2810 - accuracy: 0.9435 - val_loss: 0.2829 - val_accuracy: 0.9370\n",
      "Epoch 81/218\n",
      "68/68 [==============================] - 6s 92ms/step - loss: 0.2816 - accuracy: 0.9440 - val_loss: 0.2816 - val_accuracy: 0.9370\n",
      "Epoch 82/218\n",
      "68/68 [==============================] - 6s 89ms/step - loss: 0.2706 - accuracy: 0.9426 - val_loss: 0.2769 - val_accuracy: 0.9426\n",
      "Epoch 83/218\n",
      "68/68 [==============================] - 6s 88ms/step - loss: 0.2642 - accuracy: 0.9532 - val_loss: 0.2738 - val_accuracy: 0.9426\n",
      "Epoch 84/218\n",
      "68/68 [==============================] - 6s 88ms/step - loss: 0.2760 - accuracy: 0.9412 - val_loss: 0.2730 - val_accuracy: 0.9389\n",
      "Epoch 85/218\n",
      "68/68 [==============================] - 6s 90ms/step - loss: 0.2685 - accuracy: 0.9495 - val_loss: 0.2676 - val_accuracy: 0.9463\n",
      "Epoch 86/218\n",
      "68/68 [==============================] - 6s 91ms/step - loss: 0.2546 - accuracy: 0.9551 - val_loss: 0.2633 - val_accuracy: 0.9463\n",
      "Epoch 87/218\n",
      "68/68 [==============================] - 6s 92ms/step - loss: 0.2586 - accuracy: 0.9505 - val_loss: 0.2626 - val_accuracy: 0.9463\n",
      "Epoch 88/218\n",
      "68/68 [==============================] - 6s 93ms/step - loss: 0.2471 - accuracy: 0.9602 - val_loss: 0.2603 - val_accuracy: 0.9463\n",
      "Epoch 89/218\n",
      "68/68 [==============================] - 7s 105ms/step - loss: 0.2623 - accuracy: 0.9472 - val_loss: 0.2583 - val_accuracy: 0.9500\n",
      "Epoch 90/218\n",
      "68/68 [==============================] - 6s 85ms/step - loss: 0.2481 - accuracy: 0.9569 - val_loss: 0.2547 - val_accuracy: 0.9519\n",
      "Epoch 91/218\n",
      "68/68 [==============================] - 6s 89ms/step - loss: 0.2353 - accuracy: 0.9620 - val_loss: 0.2552 - val_accuracy: 0.9500\n",
      "Epoch 92/218\n",
      "68/68 [==============================] - 6s 87ms/step - loss: 0.2445 - accuracy: 0.9611 - val_loss: 0.2516 - val_accuracy: 0.9500\n",
      "Epoch 93/218\n",
      "68/68 [==============================] - 6s 90ms/step - loss: 0.2415 - accuracy: 0.9611 - val_loss: 0.2499 - val_accuracy: 0.9500\n",
      "Epoch 94/218\n",
      "68/68 [==============================] - 6s 87ms/step - loss: 0.2428 - accuracy: 0.9616 - val_loss: 0.2467 - val_accuracy: 0.9500\n",
      "Epoch 95/218\n",
      "68/68 [==============================] - 6s 86ms/step - loss: 0.2355 - accuracy: 0.9620 - val_loss: 0.2474 - val_accuracy: 0.9519\n",
      "Epoch 96/218\n",
      "68/68 [==============================] - 6s 85ms/step - loss: 0.2326 - accuracy: 0.9630 - val_loss: 0.2412 - val_accuracy: 0.9500\n",
      "Epoch 97/218\n",
      "68/68 [==============================] - 6s 86ms/step - loss: 0.2337 - accuracy: 0.9620 - val_loss: 0.2417 - val_accuracy: 0.9519\n",
      "Epoch 98/218\n",
      "68/68 [==============================] - 6s 87ms/step - loss: 0.2328 - accuracy: 0.9583 - val_loss: 0.2379 - val_accuracy: 0.9537\n",
      "Epoch 99/218\n",
      "68/68 [==============================] - 6s 87ms/step - loss: 0.2265 - accuracy: 0.9667 - val_loss: 0.2359 - val_accuracy: 0.9537\n",
      "Epoch 100/218\n",
      "68/68 [==============================] - 6s 83ms/step - loss: 0.2245 - accuracy: 0.9671 - val_loss: 0.2444 - val_accuracy: 0.9519\n",
      "Epoch 101/218\n",
      "68/68 [==============================] - 6s 85ms/step - loss: 0.2205 - accuracy: 0.9685 - val_loss: 0.2345 - val_accuracy: 0.9556\n",
      "Epoch 102/218\n",
      "68/68 [==============================] - 6s 86ms/step - loss: 0.2209 - accuracy: 0.9657 - val_loss: 0.2336 - val_accuracy: 0.9537\n",
      "Epoch 103/218\n",
      "68/68 [==============================] - 6s 87ms/step - loss: 0.2187 - accuracy: 0.9681 - val_loss: 0.2317 - val_accuracy: 0.9574\n",
      "Epoch 104/218\n",
      "68/68 [==============================] - 5s 76ms/step - loss: 0.2232 - accuracy: 0.9681 - val_loss: 0.2295 - val_accuracy: 0.9574\n",
      "Epoch 105/218\n",
      "68/68 [==============================] - 6s 82ms/step - loss: 0.2169 - accuracy: 0.9657 - val_loss: 0.2276 - val_accuracy: 0.9537\n",
      "Epoch 106/218\n",
      "68/68 [==============================] - 5s 81ms/step - loss: 0.2165 - accuracy: 0.9713 - val_loss: 0.2278 - val_accuracy: 0.9556\n",
      "Epoch 107/218\n",
      "68/68 [==============================] - 6s 86ms/step - loss: 0.2126 - accuracy: 0.9694 - val_loss: 0.2257 - val_accuracy: 0.9593\n",
      "Epoch 108/218\n",
      "68/68 [==============================] - 6s 86ms/step - loss: 0.2048 - accuracy: 0.9718 - val_loss: 0.2232 - val_accuracy: 0.9574\n",
      "Epoch 109/218\n",
      "68/68 [==============================] - 7s 97ms/step - loss: 0.2038 - accuracy: 0.9694 - val_loss: 0.2218 - val_accuracy: 0.9556\n",
      "Epoch 110/218\n",
      "68/68 [==============================] - 6s 86ms/step - loss: 0.2029 - accuracy: 0.9713 - val_loss: 0.2214 - val_accuracy: 0.9611\n",
      "Epoch 111/218\n",
      "68/68 [==============================] - 6s 83ms/step - loss: 0.2097 - accuracy: 0.9722 - val_loss: 0.2174 - val_accuracy: 0.9611\n",
      "Epoch 112/218\n",
      "68/68 [==============================] - 6s 86ms/step - loss: 0.2145 - accuracy: 0.9667 - val_loss: 0.2177 - val_accuracy: 0.9574\n",
      "Epoch 113/218\n",
      "68/68 [==============================] - 6s 85ms/step - loss: 0.1990 - accuracy: 0.9745 - val_loss: 0.2167 - val_accuracy: 0.9611\n",
      "Epoch 114/218\n",
      "68/68 [==============================] - 6s 86ms/step - loss: 0.2003 - accuracy: 0.9741 - val_loss: 0.2169 - val_accuracy: 0.9611\n",
      "Epoch 115/218\n",
      "68/68 [==============================] - 6s 90ms/step - loss: 0.2094 - accuracy: 0.9694 - val_loss: 0.2141 - val_accuracy: 0.9648\n",
      "Epoch 116/218\n",
      "68/68 [==============================] - 7s 103ms/step - loss: 0.1967 - accuracy: 0.9745 - val_loss: 0.2118 - val_accuracy: 0.9611\n",
      "Epoch 117/218\n",
      "68/68 [==============================] - 10s 150ms/step - loss: 0.1914 - accuracy: 0.9773 - val_loss: 0.2109 - val_accuracy: 0.9630\n",
      "Epoch 118/218\n",
      "68/68 [==============================] - 8s 117ms/step - loss: 0.1988 - accuracy: 0.9741 - val_loss: 0.2095 - val_accuracy: 0.9648\n",
      "Epoch 119/218\n",
      "68/68 [==============================] - 6s 92ms/step - loss: 0.1869 - accuracy: 0.9773 - val_loss: 0.2124 - val_accuracy: 0.9685\n",
      "Epoch 120/218\n",
      "68/68 [==============================] - 7s 106ms/step - loss: 0.1970 - accuracy: 0.9745 - val_loss: 0.2085 - val_accuracy: 0.9630\n",
      "Epoch 121/218\n",
      "68/68 [==============================] - 9s 134ms/step - loss: 0.1909 - accuracy: 0.9782 - val_loss: 0.2064 - val_accuracy: 0.9611\n",
      "Epoch 122/218\n",
      "68/68 [==============================] - 7s 99ms/step - loss: 0.1922 - accuracy: 0.9750 - val_loss: 0.2060 - val_accuracy: 0.9611\n",
      "Epoch 123/218\n",
      "68/68 [==============================] - 6s 95ms/step - loss: 0.1908 - accuracy: 0.9796 - val_loss: 0.2044 - val_accuracy: 0.9648\n",
      "Epoch 124/218\n",
      "68/68 [==============================] - 6s 93ms/step - loss: 0.1862 - accuracy: 0.9801 - val_loss: 0.2058 - val_accuracy: 0.9648\n",
      "Epoch 125/218\n",
      "68/68 [==============================] - 7s 104ms/step - loss: 0.1868 - accuracy: 0.9801 - val_loss: 0.2048 - val_accuracy: 0.9685\n",
      "Epoch 126/218\n"
     ]
    },
    {
     "name": "stdout",
     "output_type": "stream",
     "text": [
      "68/68 [==============================] - 6s 95ms/step - loss: 0.1722 - accuracy: 0.9838 - val_loss: 0.2005 - val_accuracy: 0.9667\n",
      "Epoch 127/218\n",
      "68/68 [==============================] - 7s 102ms/step - loss: 0.1883 - accuracy: 0.9778 - val_loss: 0.2024 - val_accuracy: 0.9685\n",
      "Epoch 128/218\n",
      "68/68 [==============================] - 9s 134ms/step - loss: 0.1881 - accuracy: 0.9778 - val_loss: 0.2015 - val_accuracy: 0.9648\n",
      "Epoch 129/218\n",
      "68/68 [==============================] - 12s 170ms/step - loss: 0.1837 - accuracy: 0.9792 - val_loss: 0.1991 - val_accuracy: 0.9685\n",
      "Epoch 130/218\n",
      "68/68 [==============================] - 6s 86ms/step - loss: 0.1844 - accuracy: 0.9778 - val_loss: 0.1985 - val_accuracy: 0.9704\n",
      "Epoch 131/218\n",
      "68/68 [==============================] - 6s 92ms/step - loss: 0.1913 - accuracy: 0.9764 - val_loss: 0.1964 - val_accuracy: 0.9722\n",
      "Epoch 132/218\n",
      "68/68 [==============================] - 8s 112ms/step - loss: 0.1785 - accuracy: 0.9833 - val_loss: 0.1949 - val_accuracy: 0.9704\n",
      "Epoch 133/218\n",
      "68/68 [==============================] - 13s 184ms/step - loss: 0.1740 - accuracy: 0.9843 - val_loss: 0.1931 - val_accuracy: 0.9722\n",
      "Epoch 134/218\n",
      "68/68 [==============================] - 12s 175ms/step - loss: 0.1817 - accuracy: 0.9796 - val_loss: 0.1919 - val_accuracy: 0.9704\n",
      "Epoch 135/218\n",
      "68/68 [==============================] - 6s 95ms/step - loss: 0.1791 - accuracy: 0.9833 - val_loss: 0.1946 - val_accuracy: 0.9704\n",
      "Epoch 136/218\n",
      "68/68 [==============================] - 6s 95ms/step - loss: 0.1670 - accuracy: 0.9889 - val_loss: 0.1924 - val_accuracy: 0.9704\n",
      "Epoch 137/218\n",
      "68/68 [==============================] - 6s 89ms/step - loss: 0.1725 - accuracy: 0.9852 - val_loss: 0.1888 - val_accuracy: 0.9722\n",
      "Epoch 138/218\n",
      "68/68 [==============================] - 7s 98ms/step - loss: 0.1764 - accuracy: 0.9824 - val_loss: 0.1878 - val_accuracy: 0.9722\n",
      "Epoch 139/218\n",
      "68/68 [==============================] - 12s 176ms/step - loss: 0.1816 - accuracy: 0.9769 - val_loss: 0.1875 - val_accuracy: 0.9759\n",
      "Epoch 140/218\n",
      "68/68 [==============================] - 6s 82ms/step - loss: 0.1702 - accuracy: 0.9861 - val_loss: 0.1854 - val_accuracy: 0.9741\n",
      "Epoch 141/218\n",
      "68/68 [==============================] - 5s 79ms/step - loss: 0.1822 - accuracy: 0.9801 - val_loss: 0.1846 - val_accuracy: 0.9759\n",
      "Epoch 142/218\n",
      "68/68 [==============================] - 6s 89ms/step - loss: 0.1791 - accuracy: 0.9829 - val_loss: 0.1835 - val_accuracy: 0.9759\n",
      "Epoch 143/218\n",
      "68/68 [==============================] - 6s 87ms/step - loss: 0.1707 - accuracy: 0.9838 - val_loss: 0.1843 - val_accuracy: 0.9778\n",
      "Epoch 144/218\n",
      "68/68 [==============================] - 6s 86ms/step - loss: 0.1748 - accuracy: 0.9787 - val_loss: 0.1831 - val_accuracy: 0.9759\n",
      "Epoch 145/218\n",
      "68/68 [==============================] - 6s 94ms/step - loss: 0.1672 - accuracy: 0.9856 - val_loss: 0.1822 - val_accuracy: 0.9778\n",
      "Epoch 146/218\n",
      "68/68 [==============================] - 6s 92ms/step - loss: 0.1686 - accuracy: 0.9829 - val_loss: 0.1823 - val_accuracy: 0.9759\n",
      "Epoch 147/218\n",
      "68/68 [==============================] - 6s 90ms/step - loss: 0.1731 - accuracy: 0.9852 - val_loss: 0.1808 - val_accuracy: 0.9778\n",
      "Epoch 148/218\n",
      "68/68 [==============================] - 6s 91ms/step - loss: 0.1716 - accuracy: 0.9843 - val_loss: 0.1797 - val_accuracy: 0.9778\n",
      "Epoch 149/218\n",
      "68/68 [==============================] - 6s 87ms/step - loss: 0.1645 - accuracy: 0.9866 - val_loss: 0.1788 - val_accuracy: 0.9796\n",
      "Epoch 150/218\n",
      "68/68 [==============================] - 6s 87ms/step - loss: 0.1642 - accuracy: 0.9880 - val_loss: 0.1787 - val_accuracy: 0.9796\n",
      "Epoch 151/218\n",
      "68/68 [==============================] - 6s 85ms/step - loss: 0.1678 - accuracy: 0.9856 - val_loss: 0.1788 - val_accuracy: 0.9796\n",
      "Epoch 152/218\n",
      "68/68 [==============================] - 6s 89ms/step - loss: 0.1603 - accuracy: 0.9843 - val_loss: 0.1769 - val_accuracy: 0.9778\n",
      "Epoch 153/218\n",
      "68/68 [==============================] - 6s 81ms/step - loss: 0.1667 - accuracy: 0.9856 - val_loss: 0.1763 - val_accuracy: 0.9796\n",
      "Epoch 154/218\n",
      "68/68 [==============================] - 6s 87ms/step - loss: 0.1596 - accuracy: 0.9875 - val_loss: 0.1757 - val_accuracy: 0.9796\n",
      "Epoch 155/218\n",
      "68/68 [==============================] - 6s 87ms/step - loss: 0.1645 - accuracy: 0.9852 - val_loss: 0.1757 - val_accuracy: 0.9815\n",
      "Epoch 156/218\n",
      "68/68 [==============================] - 6s 87ms/step - loss: 0.1716 - accuracy: 0.9843 - val_loss: 0.1760 - val_accuracy: 0.9778\n",
      "Epoch 157/218\n",
      "68/68 [==============================] - 6s 88ms/step - loss: 0.1630 - accuracy: 0.9866 - val_loss: 0.1738 - val_accuracy: 0.9796\n",
      "Epoch 158/218\n",
      "68/68 [==============================] - 6s 85ms/step - loss: 0.1639 - accuracy: 0.9847 - val_loss: 0.1728 - val_accuracy: 0.9815\n",
      "Epoch 159/218\n",
      "68/68 [==============================] - 6s 88ms/step - loss: 0.1652 - accuracy: 0.9829 - val_loss: 0.1720 - val_accuracy: 0.9796\n",
      "Epoch 160/218\n",
      "68/68 [==============================] - 6s 85ms/step - loss: 0.1673 - accuracy: 0.9875 - val_loss: 0.1733 - val_accuracy: 0.9796\n",
      "Epoch 161/218\n",
      "68/68 [==============================] - 6s 84ms/step - loss: 0.1627 - accuracy: 0.9852 - val_loss: 0.1729 - val_accuracy: 0.9796\n",
      "Epoch 162/218\n",
      "68/68 [==============================] - 6s 84ms/step - loss: 0.1619 - accuracy: 0.9880 - val_loss: 0.1714 - val_accuracy: 0.9796\n",
      "Epoch 163/218\n",
      "68/68 [==============================] - 6s 92ms/step - loss: 0.1554 - accuracy: 0.9889 - val_loss: 0.1710 - val_accuracy: 0.9815\n",
      "Epoch 164/218\n",
      "68/68 [==============================] - 6s 89ms/step - loss: 0.1539 - accuracy: 0.9898 - val_loss: 0.1709 - val_accuracy: 0.9815\n",
      "Epoch 165/218\n",
      "68/68 [==============================] - 6s 87ms/step - loss: 0.1559 - accuracy: 0.9880 - val_loss: 0.1683 - val_accuracy: 0.9796\n",
      "Epoch 166/218\n",
      "68/68 [==============================] - 6s 91ms/step - loss: 0.1570 - accuracy: 0.9903 - val_loss: 0.1681 - val_accuracy: 0.9833\n",
      "Epoch 167/218\n",
      "68/68 [==============================] - 6s 89ms/step - loss: 0.1607 - accuracy: 0.9856 - val_loss: 0.1672 - val_accuracy: 0.9796\n",
      "Epoch 168/218\n",
      "68/68 [==============================] - 6s 91ms/step - loss: 0.1519 - accuracy: 0.9889 - val_loss: 0.1683 - val_accuracy: 0.9796\n",
      "Epoch 169/218\n",
      "68/68 [==============================] - 6s 86ms/step - loss: 0.1585 - accuracy: 0.9866 - val_loss: 0.1670 - val_accuracy: 0.9796\n",
      "Epoch 170/218\n",
      "68/68 [==============================] - 6s 88ms/step - loss: 0.1510 - accuracy: 0.9898 - val_loss: 0.1676 - val_accuracy: 0.9833\n",
      "Epoch 171/218\n",
      "68/68 [==============================] - 6s 92ms/step - loss: 0.1574 - accuracy: 0.9894 - val_loss: 0.1671 - val_accuracy: 0.9778\n",
      "Epoch 172/218\n",
      "68/68 [==============================] - 6s 88ms/step - loss: 0.1595 - accuracy: 0.9898 - val_loss: 0.1657 - val_accuracy: 0.9815\n",
      "Epoch 173/218\n",
      "68/68 [==============================] - 6s 87ms/step - loss: 0.1577 - accuracy: 0.9889 - val_loss: 0.1660 - val_accuracy: 0.9815\n",
      "Epoch 174/218\n",
      "68/68 [==============================] - 6s 82ms/step - loss: 0.1521 - accuracy: 0.9880 - val_loss: 0.1638 - val_accuracy: 0.9833\n",
      "Epoch 175/218\n",
      "68/68 [==============================] - 6s 84ms/step - loss: 0.1538 - accuracy: 0.9889 - val_loss: 0.1635 - val_accuracy: 0.9796\n",
      "Epoch 176/218\n",
      "68/68 [==============================] - 6s 83ms/step - loss: 0.1579 - accuracy: 0.9875 - val_loss: 0.1626 - val_accuracy: 0.9833\n",
      "Epoch 177/218\n",
      "68/68 [==============================] - 6s 82ms/step - loss: 0.1552 - accuracy: 0.9861 - val_loss: 0.1625 - val_accuracy: 0.9815\n",
      "Epoch 178/218\n",
      "68/68 [==============================] - 6s 82ms/step - loss: 0.1526 - accuracy: 0.9870 - val_loss: 0.1612 - val_accuracy: 0.9796\n",
      "Epoch 179/218\n",
      "68/68 [==============================] - 6s 83ms/step - loss: 0.1546 - accuracy: 0.9898 - val_loss: 0.1597 - val_accuracy: 0.9833\n",
      "Epoch 180/218\n",
      "68/68 [==============================] - 6s 86ms/step - loss: 0.1527 - accuracy: 0.9889 - val_loss: 0.1604 - val_accuracy: 0.9833\n",
      "Epoch 181/218\n",
      "68/68 [==============================] - 6s 84ms/step - loss: 0.1458 - accuracy: 0.9935 - val_loss: 0.1599 - val_accuracy: 0.9852\n",
      "Epoch 182/218\n",
      "68/68 [==============================] - 6s 83ms/step - loss: 0.1447 - accuracy: 0.9935 - val_loss: 0.1581 - val_accuracy: 0.9833\n"
     ]
    },
    {
     "name": "stdout",
     "output_type": "stream",
     "text": [
      "Epoch 183/218\n",
      "68/68 [==============================] - 6s 86ms/step - loss: 0.1481 - accuracy: 0.9894 - val_loss: 0.1573 - val_accuracy: 0.9833\n",
      "Epoch 184/218\n",
      "68/68 [==============================] - 6s 87ms/step - loss: 0.1482 - accuracy: 0.9926 - val_loss: 0.1573 - val_accuracy: 0.9852\n",
      "Epoch 185/218\n",
      "68/68 [==============================] - 6s 87ms/step - loss: 0.1511 - accuracy: 0.9880 - val_loss: 0.1571 - val_accuracy: 0.9852\n",
      "Epoch 186/218\n",
      "68/68 [==============================] - 6s 86ms/step - loss: 0.1444 - accuracy: 0.9935 - val_loss: 0.1593 - val_accuracy: 0.9852\n",
      "Epoch 187/218\n",
      "68/68 [==============================] - 6s 87ms/step - loss: 0.1512 - accuracy: 0.9894 - val_loss: 0.1563 - val_accuracy: 0.9833\n",
      "Epoch 188/218\n",
      "68/68 [==============================] - 6s 88ms/step - loss: 0.1468 - accuracy: 0.9907 - val_loss: 0.1561 - val_accuracy: 0.9833\n",
      "Epoch 189/218\n",
      "68/68 [==============================] - 6s 86ms/step - loss: 0.1457 - accuracy: 0.9907 - val_loss: 0.1554 - val_accuracy: 0.9852\n",
      "Epoch 190/218\n",
      "68/68 [==============================] - 6s 86ms/step - loss: 0.1464 - accuracy: 0.9926 - val_loss: 0.1552 - val_accuracy: 0.9852\n",
      "Epoch 191/218\n",
      "68/68 [==============================] - 6s 92ms/step - loss: 0.1410 - accuracy: 0.9940 - val_loss: 0.1534 - val_accuracy: 0.9852\n",
      "Epoch 192/218\n",
      "68/68 [==============================] - 6s 89ms/step - loss: 0.1441 - accuracy: 0.9917 - val_loss: 0.1534 - val_accuracy: 0.9833\n",
      "Epoch 193/218\n",
      "68/68 [==============================] - 6s 89ms/step - loss: 0.1427 - accuracy: 0.9907 - val_loss: 0.1531 - val_accuracy: 0.9852\n",
      "Epoch 194/218\n",
      "68/68 [==============================] - 6s 87ms/step - loss: 0.1426 - accuracy: 0.9921 - val_loss: 0.1520 - val_accuracy: 0.9852\n",
      "Epoch 195/218\n",
      "68/68 [==============================] - 6s 88ms/step - loss: 0.1408 - accuracy: 0.9917 - val_loss: 0.1524 - val_accuracy: 0.9852\n",
      "Epoch 196/218\n",
      "68/68 [==============================] - 6s 88ms/step - loss: 0.1448 - accuracy: 0.9907 - val_loss: 0.1508 - val_accuracy: 0.9852\n",
      "Epoch 197/218\n",
      "68/68 [==============================] - 6s 86ms/step - loss: 0.1469 - accuracy: 0.9912 - val_loss: 0.1527 - val_accuracy: 0.9852\n",
      "Epoch 198/218\n",
      "68/68 [==============================] - 6s 87ms/step - loss: 0.1432 - accuracy: 0.9921 - val_loss: 0.1509 - val_accuracy: 0.9852\n",
      "Epoch 199/218\n",
      "68/68 [==============================] - 7s 100ms/step - loss: 0.1415 - accuracy: 0.9935 - val_loss: 0.1508 - val_accuracy: 0.9852\n",
      "Epoch 200/218\n",
      "68/68 [==============================] - 6s 93ms/step - loss: 0.1440 - accuracy: 0.9912 - val_loss: 0.1507 - val_accuracy: 0.9870\n",
      "Epoch 201/218\n",
      "68/68 [==============================] - 6s 85ms/step - loss: 0.1448 - accuracy: 0.9907 - val_loss: 0.1518 - val_accuracy: 0.9870\n",
      "Epoch 202/218\n",
      "68/68 [==============================] - 6s 85ms/step - loss: 0.1416 - accuracy: 0.9921 - val_loss: 0.1529 - val_accuracy: 0.9852\n",
      "Epoch 203/218\n",
      "68/68 [==============================] - 6s 87ms/step - loss: 0.1382 - accuracy: 0.9940 - val_loss: 0.1502 - val_accuracy: 0.9870\n",
      "Epoch 204/218\n",
      "68/68 [==============================] - 6s 86ms/step - loss: 0.1395 - accuracy: 0.9931 - val_loss: 0.1513 - val_accuracy: 0.9870\n",
      "Epoch 205/218\n",
      "68/68 [==============================] - 6s 82ms/step - loss: 0.1434 - accuracy: 0.9907 - val_loss: 0.1490 - val_accuracy: 0.9852\n",
      "Epoch 206/218\n",
      "68/68 [==============================] - 5s 77ms/step - loss: 0.1462 - accuracy: 0.9903 - val_loss: 0.1491 - val_accuracy: 0.9870\n",
      "Epoch 207/218\n",
      "68/68 [==============================] - 6s 84ms/step - loss: 0.1398 - accuracy: 0.9931 - val_loss: 0.1478 - val_accuracy: 0.9870\n",
      "Epoch 208/218\n",
      "68/68 [==============================] - 6s 89ms/step - loss: 0.1415 - accuracy: 0.9931 - val_loss: 0.1472 - val_accuracy: 0.9870\n",
      "Epoch 209/218\n",
      "68/68 [==============================] - 6s 86ms/step - loss: 0.1358 - accuracy: 0.9944 - val_loss: 0.1478 - val_accuracy: 0.9870\n",
      "Epoch 210/218\n",
      "68/68 [==============================] - 6s 84ms/step - loss: 0.1364 - accuracy: 0.9958 - val_loss: 0.1472 - val_accuracy: 0.9852\n",
      "Epoch 211/218\n",
      "68/68 [==============================] - 6s 88ms/step - loss: 0.1354 - accuracy: 0.9949 - val_loss: 0.1473 - val_accuracy: 0.9852\n",
      "Epoch 212/218\n",
      "68/68 [==============================] - 6s 82ms/step - loss: 0.1452 - accuracy: 0.9926 - val_loss: 0.1470 - val_accuracy: 0.9870\n",
      "Epoch 213/218\n",
      "68/68 [==============================] - 6s 83ms/step - loss: 0.1405 - accuracy: 0.9917 - val_loss: 0.1462 - val_accuracy: 0.9870\n",
      "Epoch 214/218\n",
      "68/68 [==============================] - 6s 84ms/step - loss: 0.1371 - accuracy: 0.9926 - val_loss: 0.1469 - val_accuracy: 0.9907\n",
      "Epoch 215/218\n",
      "68/68 [==============================] - 6s 85ms/step - loss: 0.1419 - accuracy: 0.9917 - val_loss: 0.1516 - val_accuracy: 0.9852\n",
      "Epoch 216/218\n",
      "68/68 [==============================] - 6s 91ms/step - loss: 0.1351 - accuracy: 0.9940 - val_loss: 0.1442 - val_accuracy: 0.9870\n",
      "Epoch 217/218\n",
      "68/68 [==============================] - 6s 86ms/step - loss: 0.1355 - accuracy: 0.9935 - val_loss: 0.1444 - val_accuracy: 0.9907\n",
      "Epoch 218/218\n",
      "68/68 [==============================] - 6s 86ms/step - loss: 0.1374 - accuracy: 0.9935 - val_loss: 0.1439 - val_accuracy: 0.9907\n"
     ]
    }
   ],
   "source": [
    "fine_tune_epochs = 150\n",
    "total_epochs =  history.epoch[-1] + fine_tune_epochs\n",
    "\n",
    "callback = tf.keras.callbacks.EarlyStopping(monitor='val_loss', patience=7)\n",
    "\n",
    "history_fine = model.fit(\n",
    "    train_ds,\n",
    "    epochs=total_epochs,\n",
    "    initial_epoch=history.epoch[-1],\n",
    "    validation_data=val_ds,\n",
    "    callbacks = [callback]\n",
    ")\n"
   ]
  },
  {
   "cell_type": "code",
   "execution_count": 20,
   "metadata": {
    "scrolled": false
   },
   "outputs": [
    {
     "data": {
      "image/png": "[encoded data removed]",
      "text/plain": [
       "<Figure size 432x288 with 1 Axes>"
      ]
     },
     "metadata": {
      "needs_background": "light"
     },
     "output_type": "display_data"
    }
   ],
   "source": [
    "'''\n",
    "Plot the total accuracy\n",
    "'''\n",
    "n = len(history.history['accuracy']) + len(history_fine.history['accuracy'])\n",
    "\n",
    "pyplot.title(\"Accuracy\")\n",
    "pyplot.plot(range(n), history.history['accuracy'] + history_fine.history['accuracy'], label = \"Train\")\n",
    "pyplot.plot(range(n), history.history['val_accuracy'] + history_fine.history['val_accuracy'], label = \"Validation\")\n",
    "\n",
    "pyplot.axvline(x=len(history.history['loss']), color='red')\n",
    "pyplot.ylim((0.6,1.01))\n",
    "pyplot.legend()\n",
    "pyplot.show()\n"
   ]
  },
  {
   "cell_type": "code",
   "execution_count": 21,
   "metadata": {
    "scrolled": false
   },
   "outputs": [
    {
     "data": {
      "image/png": "[encoded data removed]",
      "text/plain": [
       "<Figure size 432x288 with 1 Axes>"
      ]
     },
     "metadata": {
      "needs_background": "light"
     },
     "output_type": "display_data"
    }
   ],
   "source": [
    "'''\n",
    "Plot the fine tuning accuracy\n",
    "'''\n",
    "a = len(history.history['accuracy'])\n",
    "b = len(history_fine.history['accuracy'])\n",
    "c = a+b\n",
    "\n",
    "pyplot.title(\"Accuracy\")\n",
    "pyplot.plot(range(a,c), history_fine.history['accuracy'], label = \"Train\")\n",
    "pyplot.plot(range(a,c), history_fine.history['val_accuracy'], label = \"Validation\")\n",
    "pyplot.legend()\n",
    "pyplot.show()\n"
   ]
  },
  {
   "cell_type": "code",
   "execution_count": 22,
   "metadata": {
    "scrolled": false
   },
   "outputs": [
    {
     "name": "stdout",
     "output_type": "stream",
     "text": [
      "INFO:tensorflow:Assets written to: models/experiment_005rb/assets\n"
     ]
    }
   ],
   "source": [
    "model.save('models/experiment_005rb')"
   ]
  },
  {
   "cell_type": "code",
   "execution_count": null,
   "metadata": {},
   "outputs": [],
   "source": []
  }
 ],
 "metadata": {
  "kernelspec": {
   "display_name": "Python 3",
   "language": "python",
   "name": "python3"
  },
  "language_info": {
   "codemirror_mode": {
    "name": "ipython",
    "version": 3
   },
   "file_extension": ".py",
   "mimetype": "text/x-python",
   "name": "python",
   "nbconvert_exporter": "python",
   "pygments_lexer": "ipython3",
   "version": "3.8.6"
  }
 },
 "nbformat": 4,
 "nbformat_minor": 4
}
