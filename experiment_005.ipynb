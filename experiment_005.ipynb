{
 "cells": [
  {
   "cell_type": "markdown",
   "metadata": {},
   "source": [
    "# Experiment 5\n",
    "Apply transfer learning to MobileNetV2 (trained on ImageNet) with data augmentation"
   ]
  },
  {
   "cell_type": "code",
   "execution_count": 1,
   "metadata": {},
   "outputs": [],
   "source": [
    "# model training using tensorflow\n",
    "import numpy as np\n",
    "import os\n",
    "import cv2\n",
    "from matplotlib import pyplot\n",
    "\n",
    "import tensorflow as tf\n",
    "\n",
    "from tensorflow import keras\n",
    "from tensorflow.keras import layers\n",
    "from tensorflow.keras.models import Sequential"
   ]
  },
  {
   "cell_type": "code",
   "execution_count": 2,
   "metadata": {},
   "outputs": [
    {
     "name": "stdout",
     "output_type": "stream",
     "text": [
      "Num GPUs Available:  1\n",
      "0\n"
     ]
    }
   ],
   "source": [
    "'''\n",
    "Configuration Code\n",
    "'''\n",
    "def get_n_cores():\n",
    "    \"\"\"The NSLOTS variable, If NSLOTS is not defined throw an exception.\"\"\"\n",
    "    nslots = os.getenv(\"NSLOTS\")\n",
    "    if nslots is not None:\n",
    "        return int(nslots)\n",
    "    raise ValueError(\"Environment variable NSLOTS is not defined.\")\n",
    "\n",
    "\n",
    "os.environ[\"TF_CPP_MIN_LOG_LEVEL\"] = \"3\"\n",
    "\n",
    "NUM_GPUS = len(tf.config.experimental.list_physical_devices(\"GPU\"))\n",
    "print(\"Num GPUs Available: \", NUM_GPUS)\n",
    "if NUM_GPUS > 0:\n",
    "    print(os.getenv(\"CUDA_VISIBLE_DEVICES\"))\n",
    "\n",
    "tf.config.set_soft_device_placement(True)\n",
    "tf.keras.backend.set_floatx(\"float32\")\n",
    "tf.config.threading.set_intra_op_parallelism_threads(1)\n",
    "tf.config.threading.set_inter_op_parallelism_threads(get_n_cores())"
   ]
  },
  {
   "cell_type": "code",
   "execution_count": 4,
   "metadata": {},
   "outputs": [
    {
     "name": "stdout",
     "output_type": "stream",
     "text": [
      "Found 2700 files belonging to 2 classes.\n",
      "Using 2160 files for training.\n"
     ]
    }
   ],
   "source": [
    "batch_size = 32\n",
    "\n",
    "DATA_DIRECTORY = os.path.join(os.getcwd(), 'train_data')\n",
    "\n",
    "size = (224,224) # height, width\n",
    "\n",
    "train_ds = tf.keras.preprocessing.image_dataset_from_directory(\n",
    "  DATA_DIRECTORY,\n",
    "  validation_split=0.2,\n",
    "  subset=\"training\",\n",
    "  seed=123,\n",
    "  image_size=size,\n",
    "  batch_size=batch_size\n",
    ")"
   ]
  },
  {
   "cell_type": "code",
   "execution_count": 5,
   "metadata": {
    "scrolled": true
   },
   "outputs": [
    {
     "name": "stdout",
     "output_type": "stream",
     "text": [
      "Found 2700 files belonging to 2 classes.\n",
      "Using 540 files for validation.\n"
     ]
    }
   ],
   "source": [
    "val_ds = tf.keras.preprocessing.image_dataset_from_directory(\n",
    "  DATA_DIRECTORY,\n",
    "  validation_split=0.2,\n",
    "  subset=\"validation\",\n",
    "  seed=123,\n",
    "  image_size=size,\n",
    "  batch_size=batch_size\n",
    ")"
   ]
  },
  {
   "cell_type": "code",
   "execution_count": 6,
   "metadata": {},
   "outputs": [],
   "source": [
    "'''\n",
    "Set the base model to MobileNetV2 (trained on ImageNet)\n",
    "'''\n",
    "IMG_SHAPE = size + (3,)\n",
    "base_model = tf.keras.applications.MobileNetV2(input_shape=IMG_SHAPE,\n",
    "                                               include_top=False,\n",
    "                                               weights='imagenet')"
   ]
  },
  {
   "cell_type": "code",
   "execution_count": 7,
   "metadata": {},
   "outputs": [],
   "source": [
    "# do not allow the NN to train the base network\n",
    "base_model.trainable = False"
   ]
  },
  {
   "cell_type": "code",
   "execution_count": 8,
   "metadata": {},
   "outputs": [],
   "source": [
    "# create the additional layers for the end\n",
    "global_average_layer = tf.keras.layers.GlobalAveragePooling2D()\n",
    "prediction_layer = tf.keras.layers.Dense(2)"
   ]
  },
  {
   "cell_type": "code",
   "execution_count": 9,
   "metadata": {},
   "outputs": [],
   "source": [
    "normalization_layer = layers.experimental.preprocessing.Rescaling(1./255, input_shape=(224,224,3))"
   ]
  },
  {
   "cell_type": "code",
   "execution_count": 10,
   "metadata": {
    "scrolled": false
   },
   "outputs": [],
   "source": [
    "data_augmentation = keras.Sequential(\n",
    "  [\n",
    "    layers.experimental.preprocessing.RandomFlip(\"horizontal\", input_shape=(224,224,3)),\n",
    "    layers.experimental.preprocessing.RandomFlip(\"vertical\", input_shape=(224,224,3)),\n",
    "    layers.experimental.preprocessing.RandomRotation(0.1),\n",
    "    layers.experimental.preprocessing.RandomZoom(0.1),\n",
    "  ]\n",
    ")"
   ]
  },
  {
   "cell_type": "code",
   "execution_count": 11,
   "metadata": {},
   "outputs": [],
   "source": [
    "# chain the layers together to make the complete model\n",
    "inputs = tf.keras.Input(shape=(224, 224, 3))\n",
    "x = normalization_layer(inputs)\n",
    "x = data_augmentation(x)\n",
    "x = base_model(x, training=False)\n",
    "x = global_average_layer(x)\n",
    "x = tf.keras.layers.Dropout(0.2)(x)\n",
    "outputs = prediction_layer(x)\n",
    "model = tf.keras.Model(inputs, outputs)"
   ]
  },
  {
   "cell_type": "code",
   "execution_count": 12,
   "metadata": {},
   "outputs": [],
   "source": [
    "# we need a low learning rate to avoid overfitting\n",
    "base_learning_rate = 0.0001\n",
    "\n",
    "model.compile(\n",
    "    optimizer=tf.keras.optimizers.Adam(lr=base_learning_rate),\n",
    "    loss=tf.keras.losses.SparseCategoricalCrossentropy(from_logits=True),\n",
    "    metrics=['accuracy']\n",
    ")"
   ]
  },
  {
   "cell_type": "code",
   "execution_count": 13,
   "metadata": {
    "scrolled": true
   },
   "outputs": [
    {
     "name": "stdout",
     "output_type": "stream",
     "text": [
      "Epoch 1/100\n",
      "68/68 [==============================] - 7s 99ms/step - loss: 0.6787 - accuracy: 0.6370 - val_loss: 0.5626 - val_accuracy: 0.7074\n",
      "Epoch 2/100\n",
      "68/68 [==============================] - 5s 80ms/step - loss: 0.5574 - accuracy: 0.7097 - val_loss: 0.4601 - val_accuracy: 0.7981\n",
      "Epoch 3/100\n",
      "68/68 [==============================] - 5s 77ms/step - loss: 0.4784 - accuracy: 0.7685 - val_loss: 0.4008 - val_accuracy: 0.8426\n",
      "Epoch 4/100\n",
      "68/68 [==============================] - 5s 79ms/step - loss: 0.4481 - accuracy: 0.7921 - val_loss: 0.3698 - val_accuracy: 0.8556\n",
      "Epoch 5/100\n",
      "68/68 [==============================] - 6s 82ms/step - loss: 0.4127 - accuracy: 0.8162 - val_loss: 0.3431 - val_accuracy: 0.8685\n",
      "Epoch 6/100\n",
      "68/68 [==============================] - 5s 75ms/step - loss: 0.3720 - accuracy: 0.8343 - val_loss: 0.3237 - val_accuracy: 0.8815\n",
      "Epoch 7/100\n",
      "68/68 [==============================] - 5s 78ms/step - loss: 0.3781 - accuracy: 0.8384 - val_loss: 0.3089 - val_accuracy: 0.8889\n",
      "Epoch 8/100\n",
      "68/68 [==============================] - 5s 71ms/step - loss: 0.3409 - accuracy: 0.8565 - val_loss: 0.2972 - val_accuracy: 0.8870\n",
      "Epoch 9/100\n",
      "68/68 [==============================] - 5s 79ms/step - loss: 0.3341 - accuracy: 0.8667 - val_loss: 0.2881 - val_accuracy: 0.8963\n",
      "Epoch 10/100\n",
      "68/68 [==============================] - 5s 77ms/step - loss: 0.3156 - accuracy: 0.8699 - val_loss: 0.2785 - val_accuracy: 0.9000\n",
      "Epoch 11/100\n",
      "68/68 [==============================] - 5s 78ms/step - loss: 0.3094 - accuracy: 0.8676 - val_loss: 0.2710 - val_accuracy: 0.8981\n",
      "Epoch 12/100\n",
      "68/68 [==============================] - 5s 79ms/step - loss: 0.3111 - accuracy: 0.8764 - val_loss: 0.2648 - val_accuracy: 0.9019\n",
      "Epoch 13/100\n",
      "68/68 [==============================] - 5s 80ms/step - loss: 0.2957 - accuracy: 0.8745 - val_loss: 0.2570 - val_accuracy: 0.9056\n",
      "Epoch 14/100\n",
      "68/68 [==============================] - 5s 75ms/step - loss: 0.2918 - accuracy: 0.8819 - val_loss: 0.2542 - val_accuracy: 0.9056\n",
      "Epoch 15/100\n",
      "68/68 [==============================] - 5s 77ms/step - loss: 0.2809 - accuracy: 0.8852 - val_loss: 0.2511 - val_accuracy: 0.9093\n",
      "Epoch 16/100\n",
      "68/68 [==============================] - 5s 76ms/step - loss: 0.2770 - accuracy: 0.8921 - val_loss: 0.2424 - val_accuracy: 0.9093\n",
      "Epoch 17/100\n",
      "68/68 [==============================] - 5s 80ms/step - loss: 0.2748 - accuracy: 0.8852 - val_loss: 0.2408 - val_accuracy: 0.9111\n",
      "Epoch 18/100\n",
      "68/68 [==============================] - 5s 72ms/step - loss: 0.2613 - accuracy: 0.8981 - val_loss: 0.2349 - val_accuracy: 0.9130\n",
      "Epoch 19/100\n",
      "68/68 [==============================] - 5s 70ms/step - loss: 0.2506 - accuracy: 0.8977 - val_loss: 0.2310 - val_accuracy: 0.9167\n",
      "Epoch 20/100\n",
      "68/68 [==============================] - 5s 77ms/step - loss: 0.2528 - accuracy: 0.8963 - val_loss: 0.2270 - val_accuracy: 0.9167\n",
      "Epoch 21/100\n",
      "68/68 [==============================] - 5s 79ms/step - loss: 0.2400 - accuracy: 0.9069 - val_loss: 0.2236 - val_accuracy: 0.9130\n",
      "Epoch 22/100\n",
      "68/68 [==============================] - 6s 82ms/step - loss: 0.2506 - accuracy: 0.8963 - val_loss: 0.2211 - val_accuracy: 0.9185\n",
      "Epoch 23/100\n",
      "68/68 [==============================] - 6s 85ms/step - loss: 0.2458 - accuracy: 0.8963 - val_loss: 0.2179 - val_accuracy: 0.9185\n",
      "Epoch 24/100\n",
      "68/68 [==============================] - 5s 80ms/step - loss: 0.2514 - accuracy: 0.9019 - val_loss: 0.2168 - val_accuracy: 0.9222\n",
      "Epoch 25/100\n",
      "68/68 [==============================] - 6s 81ms/step - loss: 0.2261 - accuracy: 0.9139 - val_loss: 0.2137 - val_accuracy: 0.9259\n",
      "Epoch 26/100\n",
      "68/68 [==============================] - 6s 81ms/step - loss: 0.2383 - accuracy: 0.9069 - val_loss: 0.2129 - val_accuracy: 0.9222\n",
      "Epoch 27/100\n",
      "68/68 [==============================] - 6s 82ms/step - loss: 0.2316 - accuracy: 0.9116 - val_loss: 0.2100 - val_accuracy: 0.9278\n",
      "Epoch 28/100\n",
      "68/68 [==============================] - 6s 83ms/step - loss: 0.2214 - accuracy: 0.9111 - val_loss: 0.2076 - val_accuracy: 0.9259\n",
      "Epoch 29/100\n",
      "68/68 [==============================] - 6s 83ms/step - loss: 0.2234 - accuracy: 0.9079 - val_loss: 0.2059 - val_accuracy: 0.9241\n",
      "Epoch 30/100\n",
      "68/68 [==============================] - 5s 80ms/step - loss: 0.2120 - accuracy: 0.9222 - val_loss: 0.2064 - val_accuracy: 0.9259\n",
      "Epoch 31/100\n",
      "68/68 [==============================] - 5s 80ms/step - loss: 0.2136 - accuracy: 0.9185 - val_loss: 0.2025 - val_accuracy: 0.9296\n",
      "Epoch 32/100\n",
      "68/68 [==============================] - 6s 81ms/step - loss: 0.2201 - accuracy: 0.9144 - val_loss: 0.1997 - val_accuracy: 0.9315\n",
      "Epoch 33/100\n",
      "68/68 [==============================] - 6s 89ms/step - loss: 0.2132 - accuracy: 0.9167 - val_loss: 0.1989 - val_accuracy: 0.9296\n",
      "Epoch 34/100\n",
      "68/68 [==============================] - 6s 85ms/step - loss: 0.2009 - accuracy: 0.9273 - val_loss: 0.1956 - val_accuracy: 0.9278\n",
      "Epoch 35/100\n",
      "68/68 [==============================] - 5s 80ms/step - loss: 0.2155 - accuracy: 0.9162 - val_loss: 0.1935 - val_accuracy: 0.9315\n",
      "Epoch 36/100\n",
      "68/68 [==============================] - 6s 83ms/step - loss: 0.2137 - accuracy: 0.9144 - val_loss: 0.1978 - val_accuracy: 0.9278\n",
      "Epoch 37/100\n",
      "68/68 [==============================] - 5s 81ms/step - loss: 0.2041 - accuracy: 0.9245 - val_loss: 0.1947 - val_accuracy: 0.9315\n",
      "Epoch 38/100\n",
      "68/68 [==============================] - 6s 85ms/step - loss: 0.2045 - accuracy: 0.9222 - val_loss: 0.1908 - val_accuracy: 0.9315\n",
      "Epoch 39/100\n",
      "68/68 [==============================] - 6s 82ms/step - loss: 0.1968 - accuracy: 0.9250 - val_loss: 0.1950 - val_accuracy: 0.9296\n",
      "Epoch 40/100\n",
      "68/68 [==============================] - 5s 80ms/step - loss: 0.2012 - accuracy: 0.9190 - val_loss: 0.1944 - val_accuracy: 0.9296\n",
      "Epoch 41/100\n",
      "68/68 [==============================] - 5s 80ms/step - loss: 0.1960 - accuracy: 0.9269 - val_loss: 0.1878 - val_accuracy: 0.9315\n",
      "Epoch 42/100\n",
      "68/68 [==============================] - 5s 79ms/step - loss: 0.1796 - accuracy: 0.9296 - val_loss: 0.1903 - val_accuracy: 0.9315\n",
      "Epoch 43/100\n",
      "68/68 [==============================] - 6s 82ms/step - loss: 0.1829 - accuracy: 0.9333 - val_loss: 0.1910 - val_accuracy: 0.9296\n",
      "Epoch 44/100\n",
      "68/68 [==============================] - 5s 78ms/step - loss: 0.2068 - accuracy: 0.9194 - val_loss: 0.1876 - val_accuracy: 0.9296\n",
      "Epoch 45/100\n",
      "68/68 [==============================] - 5s 80ms/step - loss: 0.1911 - accuracy: 0.9287 - val_loss: 0.1858 - val_accuracy: 0.9333\n",
      "Epoch 46/100\n",
      "68/68 [==============================] - 5s 77ms/step - loss: 0.1839 - accuracy: 0.9292 - val_loss: 0.1870 - val_accuracy: 0.9333\n",
      "Epoch 47/100\n",
      "68/68 [==============================] - 5s 78ms/step - loss: 0.1836 - accuracy: 0.9380 - val_loss: 0.1821 - val_accuracy: 0.9352\n",
      "Epoch 48/100\n",
      "68/68 [==============================] - 5s 79ms/step - loss: 0.1856 - accuracy: 0.9255 - val_loss: 0.1815 - val_accuracy: 0.9352\n",
      "Epoch 49/100\n",
      "68/68 [==============================] - 5s 78ms/step - loss: 0.1843 - accuracy: 0.9292 - val_loss: 0.1800 - val_accuracy: 0.9352\n",
      "Epoch 50/100\n",
      "68/68 [==============================] - 5s 78ms/step - loss: 0.1770 - accuracy: 0.9315 - val_loss: 0.1782 - val_accuracy: 0.9370\n",
      "Epoch 51/100\n",
      "68/68 [==============================] - 5s 78ms/step - loss: 0.1743 - accuracy: 0.9412 - val_loss: 0.1782 - val_accuracy: 0.9370\n",
      "Epoch 52/100\n",
      "68/68 [==============================] - 5s 78ms/step - loss: 0.1805 - accuracy: 0.9292 - val_loss: 0.1802 - val_accuracy: 0.9333\n",
      "Epoch 53/100\n",
      "68/68 [==============================] - 5s 75ms/step - loss: 0.1738 - accuracy: 0.9361 - val_loss: 0.1755 - val_accuracy: 0.9370\n",
      "Epoch 54/100\n",
      "68/68 [==============================] - 5s 79ms/step - loss: 0.1839 - accuracy: 0.9287 - val_loss: 0.1748 - val_accuracy: 0.9370\n",
      "Epoch 55/100\n",
      "68/68 [==============================] - 5s 80ms/step - loss: 0.1835 - accuracy: 0.9273 - val_loss: 0.1757 - val_accuracy: 0.9407\n",
      "Epoch 56/100\n",
      "68/68 [==============================] - 5s 78ms/step - loss: 0.1782 - accuracy: 0.9329 - val_loss: 0.1771 - val_accuracy: 0.9370\n",
      "Epoch 57/100\n",
      "68/68 [==============================] - 6s 83ms/step - loss: 0.1671 - accuracy: 0.9370 - val_loss: 0.1741 - val_accuracy: 0.9407\n",
      "Epoch 58/100\n"
     ]
    },
    {
     "name": "stdout",
     "output_type": "stream",
     "text": [
      "68/68 [==============================] - 5s 77ms/step - loss: 0.1679 - accuracy: 0.9366 - val_loss: 0.1723 - val_accuracy: 0.9389\n",
      "Epoch 59/100\n",
      "68/68 [==============================] - 5s 77ms/step - loss: 0.1726 - accuracy: 0.9361 - val_loss: 0.1719 - val_accuracy: 0.9389\n",
      "Epoch 60/100\n",
      "68/68 [==============================] - 6s 84ms/step - loss: 0.1809 - accuracy: 0.9343 - val_loss: 0.1725 - val_accuracy: 0.9407\n",
      "Epoch 61/100\n",
      "68/68 [==============================] - 6s 82ms/step - loss: 0.1614 - accuracy: 0.9366 - val_loss: 0.1727 - val_accuracy: 0.9389\n",
      "Epoch 62/100\n",
      "68/68 [==============================] - 6s 82ms/step - loss: 0.1702 - accuracy: 0.9417 - val_loss: 0.1727 - val_accuracy: 0.9370\n",
      "Epoch 63/100\n",
      "68/68 [==============================] - 6s 84ms/step - loss: 0.1733 - accuracy: 0.9315 - val_loss: 0.1747 - val_accuracy: 0.9352\n",
      "Epoch 64/100\n",
      "68/68 [==============================] - 5s 79ms/step - loss: 0.1669 - accuracy: 0.9315 - val_loss: 0.1731 - val_accuracy: 0.9389\n"
     ]
    }
   ],
   "source": [
    "epochs=100\n",
    "\n",
    "callback = tf.keras.callbacks.EarlyStopping(monitor='val_loss', patience=5)\n",
    "\n",
    "history = model.fit(\n",
    "    train_ds,\n",
    "    validation_data=val_ds,\n",
    "    epochs=epochs,\n",
    "    callbacks=[callback]\n",
    ")"
   ]
  },
  {
   "cell_type": "code",
   "execution_count": 14,
   "metadata": {
    "scrolled": true
   },
   "outputs": [
    {
     "data": {
      "image/png": "[encoded data removed]",
      "text/plain": [
       "<Figure size 432x288 with 1 Axes>"
      ]
     },
     "metadata": {
      "needs_background": "light"
     },
     "output_type": "display_data"
    }
   ],
   "source": [
    "'''\n",
    "Plot the accuracy\n",
    "'''\n",
    "pyplot.title(\"Accuracy\")\n",
    "pyplot.plot(range(len(history.history['accuracy'])), history.history['accuracy'], label = \"Train\")\n",
    "pyplot.plot(range(len(history.history['val_accuracy'])), history.history['val_accuracy'], label = \"Validation\")\n",
    "pyplot.ylim((0.6, 1.01))\n",
    "pyplot.legend()\n",
    "pyplot.show()"
   ]
  },
  {
   "cell_type": "code",
   "execution_count": 15,
   "metadata": {
    "scrolled": false
   },
   "outputs": [
    {
     "name": "stdout",
     "output_type": "stream",
     "text": [
      "WARNING:tensorflow:From /share/pkg.7/tensorflow/2.3.1/install/lib/SCC/../python3.8/site-packages/tensorflow/python/training/tracking/tracking.py:111: Model.state_updates (from tensorflow.python.keras.engine.training) is deprecated and will be removed in a future version.\n",
      "Instructions for updating:\n",
      "This property should not be used in TensorFlow 2.0, as updates are applied automatically.\n",
      "WARNING:tensorflow:From /share/pkg.7/tensorflow/2.3.1/install/lib/SCC/../python3.8/site-packages/tensorflow/python/training/tracking/tracking.py:111: Layer.updates (from tensorflow.python.keras.engine.base_layer) is deprecated and will be removed in a future version.\n",
      "Instructions for updating:\n",
      "This property should not be used in TensorFlow 2.0, as updates are applied automatically.\n",
      "INFO:tensorflow:Assets written to: models/experiment_005a/assets\n"
     ]
    }
   ],
   "source": [
    "# save the model\n",
    "model.save(\"models/{}\".format(\"experiment_005a\"))"
   ]
  },
  {
   "cell_type": "code",
   "execution_count": 16,
   "metadata": {},
   "outputs": [
    {
     "name": "stdout",
     "output_type": "stream",
     "text": [
      "Model: \"functional_1\"\n",
      "_________________________________________________________________\n",
      "Layer (type)                 Output Shape              Param #   \n",
      "=================================================================\n",
      "input_2 (InputLayer)         [(None, 224, 224, 3)]     0         \n",
      "_________________________________________________________________\n",
      "rescaling (Rescaling)        (None, 224, 224, 3)       0         \n",
      "_________________________________________________________________\n",
      "sequential (Sequential)      (None, 224, 224, 3)       0         \n",
      "_________________________________________________________________\n",
      "mobilenetv2_1.00_224 (Functi (None, 7, 7, 1280)        2257984   \n",
      "_________________________________________________________________\n",
      "global_average_pooling2d (Gl (None, 1280)              0         \n",
      "_________________________________________________________________\n",
      "dropout (Dropout)            (None, 1280)              0         \n",
      "_________________________________________________________________\n",
      "dense (Dense)                (None, 2)                 2562      \n",
      "=================================================================\n",
      "Total params: 2,260,546\n",
      "Trainable params: 2,562\n",
      "Non-trainable params: 2,257,984\n",
      "_________________________________________________________________\n"
     ]
    }
   ],
   "source": [
    "model.summary()"
   ]
  },
  {
   "cell_type": "markdown",
   "metadata": {},
   "source": [
    "Fine-tuning can hopefully improve the model still. The last 50 layers of MobileNetV2 will be unlocked to allow for gradient adjustments"
   ]
  },
  {
   "cell_type": "code",
   "execution_count": 17,
   "metadata": {},
   "outputs": [],
   "source": [
    "# change to fine tuning\n",
    "base_model.trainable = True\n",
    "\n",
    "# this is the layer to start fine tuning at\n",
    "fine_tune_at = len(base_model.layers) - 50\n",
    "\n",
    "# Freeze all the layers before the `fine_tune_at` layer\n",
    "for layer in base_model.layers[:fine_tune_at]:\n",
    "    layer.trainable =  False"
   ]
  },
  {
   "cell_type": "code",
   "execution_count": 18,
   "metadata": {},
   "outputs": [
    {
     "name": "stdout",
     "output_type": "stream",
     "text": [
      "Model: \"functional_1\"\n",
      "_________________________________________________________________\n",
      "Layer (type)                 Output Shape              Param #   \n",
      "=================================================================\n",
      "input_2 (InputLayer)         [(None, 224, 224, 3)]     0         \n",
      "_________________________________________________________________\n",
      "rescaling (Rescaling)        (None, 224, 224, 3)       0         \n",
      "_________________________________________________________________\n",
      "sequential (Sequential)      (None, 224, 224, 3)       0         \n",
      "_________________________________________________________________\n",
      "mobilenetv2_1.00_224 (Functi (None, 7, 7, 1280)        2257984   \n",
      "_________________________________________________________________\n",
      "global_average_pooling2d (Gl (None, 1280)              0         \n",
      "_________________________________________________________________\n",
      "dropout (Dropout)            (None, 1280)              0         \n",
      "_________________________________________________________________\n",
      "dense (Dense)                (None, 2)                 2562      \n",
      "=================================================================\n",
      "Total params: 2,260,546\n",
      "Trainable params: 1,857,666\n",
      "Non-trainable params: 402,880\n",
      "_________________________________________________________________\n"
     ]
    }
   ],
   "source": [
    "model.compile(loss=tf.keras.losses.SparseCategoricalCrossentropy(from_logits=True),\n",
    "              optimizer = tf.keras.optimizers.RMSprop(lr=base_learning_rate/100),\n",
    "              metrics=['accuracy'])\n",
    "\n",
    "model.summary()"
   ]
  },
  {
   "cell_type": "code",
   "execution_count": 19,
   "metadata": {},
   "outputs": [
    {
     "name": "stdout",
     "output_type": "stream",
     "text": [
      "Epoch 64/163\n",
      "68/68 [==============================] - 7s 110ms/step - loss: 0.1646 - accuracy: 0.9403 - val_loss: 0.1654 - val_accuracy: 0.9407\n",
      "Epoch 65/163\n",
      "68/68 [==============================] - 6s 94ms/step - loss: 0.1531 - accuracy: 0.9472 - val_loss: 0.1601 - val_accuracy: 0.9389\n",
      "Epoch 66/163\n",
      "68/68 [==============================] - 6s 94ms/step - loss: 0.1521 - accuracy: 0.9431 - val_loss: 0.1536 - val_accuracy: 0.9389\n",
      "Epoch 67/163\n",
      "68/68 [==============================] - 6s 89ms/step - loss: 0.1371 - accuracy: 0.9495 - val_loss: 0.1505 - val_accuracy: 0.9407\n",
      "Epoch 68/163\n",
      "68/68 [==============================] - 6s 82ms/step - loss: 0.1290 - accuracy: 0.9537 - val_loss: 0.1470 - val_accuracy: 0.9444\n",
      "Epoch 69/163\n",
      "68/68 [==============================] - 6s 88ms/step - loss: 0.1407 - accuracy: 0.9454 - val_loss: 0.1381 - val_accuracy: 0.9481\n",
      "Epoch 70/163\n",
      "68/68 [==============================] - 6s 86ms/step - loss: 0.1291 - accuracy: 0.9509 - val_loss: 0.1388 - val_accuracy: 0.9463\n",
      "Epoch 71/163\n",
      "68/68 [==============================] - 9s 135ms/step - loss: 0.1116 - accuracy: 0.9588 - val_loss: 0.1354 - val_accuracy: 0.9463\n",
      "Epoch 72/163\n",
      "68/68 [==============================] - 6s 86ms/step - loss: 0.1248 - accuracy: 0.9523 - val_loss: 0.1451 - val_accuracy: 0.9444\n",
      "Epoch 73/163\n",
      "68/68 [==============================] - 5s 81ms/step - loss: 0.1013 - accuracy: 0.9634 - val_loss: 0.1333 - val_accuracy: 0.9519\n",
      "Epoch 74/163\n",
      "68/68 [==============================] - 6s 83ms/step - loss: 0.1168 - accuracy: 0.9579 - val_loss: 0.1307 - val_accuracy: 0.9519\n",
      "Epoch 75/163\n",
      "68/68 [==============================] - 6s 83ms/step - loss: 0.1085 - accuracy: 0.9593 - val_loss: 0.1296 - val_accuracy: 0.9537\n",
      "Epoch 76/163\n",
      "68/68 [==============================] - 6s 87ms/step - loss: 0.1239 - accuracy: 0.9528 - val_loss: 0.1288 - val_accuracy: 0.9556\n",
      "Epoch 77/163\n",
      "68/68 [==============================] - 6s 86ms/step - loss: 0.1031 - accuracy: 0.9616 - val_loss: 0.1268 - val_accuracy: 0.9556\n",
      "Epoch 78/163\n",
      "68/68 [==============================] - 6s 82ms/step - loss: 0.1015 - accuracy: 0.9630 - val_loss: 0.1224 - val_accuracy: 0.9574\n",
      "Epoch 79/163\n",
      "68/68 [==============================] - 6s 85ms/step - loss: 0.1060 - accuracy: 0.9616 - val_loss: 0.1224 - val_accuracy: 0.9593\n",
      "Epoch 80/163\n",
      "68/68 [==============================] - 6s 83ms/step - loss: 0.1018 - accuracy: 0.9653 - val_loss: 0.1179 - val_accuracy: 0.9593\n",
      "Epoch 81/163\n",
      "68/68 [==============================] - 6s 83ms/step - loss: 0.0949 - accuracy: 0.9634 - val_loss: 0.1170 - val_accuracy: 0.9593\n",
      "Epoch 82/163\n",
      "68/68 [==============================] - 6s 83ms/step - loss: 0.0905 - accuracy: 0.9676 - val_loss: 0.1150 - val_accuracy: 0.9611\n",
      "Epoch 83/163\n",
      "68/68 [==============================] - 6s 84ms/step - loss: 0.0930 - accuracy: 0.9611 - val_loss: 0.1162 - val_accuracy: 0.9556\n",
      "Epoch 84/163\n",
      "68/68 [==============================] - 6s 83ms/step - loss: 0.0974 - accuracy: 0.9690 - val_loss: 0.1102 - val_accuracy: 0.9611\n",
      "Epoch 85/163\n",
      "68/68 [==============================] - 6s 81ms/step - loss: 0.0987 - accuracy: 0.9606 - val_loss: 0.1107 - val_accuracy: 0.9611\n",
      "Epoch 86/163\n",
      "68/68 [==============================] - 6s 84ms/step - loss: 0.0762 - accuracy: 0.9741 - val_loss: 0.1070 - val_accuracy: 0.9630\n",
      "Epoch 87/163\n",
      "68/68 [==============================] - 6s 81ms/step - loss: 0.0872 - accuracy: 0.9718 - val_loss: 0.1046 - val_accuracy: 0.9611\n",
      "Epoch 88/163\n",
      "68/68 [==============================] - 5s 79ms/step - loss: 0.0846 - accuracy: 0.9708 - val_loss: 0.1059 - val_accuracy: 0.9593\n",
      "Epoch 89/163\n",
      "68/68 [==============================] - 5s 81ms/step - loss: 0.0901 - accuracy: 0.9694 - val_loss: 0.1063 - val_accuracy: 0.9611\n",
      "Epoch 90/163\n",
      "68/68 [==============================] - 5s 79ms/step - loss: 0.0885 - accuracy: 0.9690 - val_loss: 0.1032 - val_accuracy: 0.9593\n",
      "Epoch 91/163\n",
      "68/68 [==============================] - 6s 82ms/step - loss: 0.0904 - accuracy: 0.9611 - val_loss: 0.1047 - val_accuracy: 0.9611\n",
      "Epoch 92/163\n",
      "68/68 [==============================] - 5s 77ms/step - loss: 0.0718 - accuracy: 0.9750 - val_loss: 0.1027 - val_accuracy: 0.9611\n",
      "Epoch 93/163\n",
      "68/68 [==============================] - 6s 84ms/step - loss: 0.0765 - accuracy: 0.9750 - val_loss: 0.1006 - val_accuracy: 0.9611\n",
      "Epoch 94/163\n",
      "68/68 [==============================] - 6s 87ms/step - loss: 0.0702 - accuracy: 0.9759 - val_loss: 0.0997 - val_accuracy: 0.9611\n",
      "Epoch 95/163\n",
      "68/68 [==============================] - 6s 87ms/step - loss: 0.0776 - accuracy: 0.9750 - val_loss: 0.0985 - val_accuracy: 0.9593\n",
      "Epoch 96/163\n",
      "68/68 [==============================] - 6s 81ms/step - loss: 0.0739 - accuracy: 0.9792 - val_loss: 0.0978 - val_accuracy: 0.9611\n",
      "Epoch 97/163\n",
      "68/68 [==============================] - 6s 84ms/step - loss: 0.0623 - accuracy: 0.9787 - val_loss: 0.0937 - val_accuracy: 0.9593\n",
      "Epoch 98/163\n",
      "68/68 [==============================] - 6s 88ms/step - loss: 0.0722 - accuracy: 0.9759 - val_loss: 0.0940 - val_accuracy: 0.9648\n",
      "Epoch 99/163\n",
      "68/68 [==============================] - 6s 93ms/step - loss: 0.0701 - accuracy: 0.9769 - val_loss: 0.0905 - val_accuracy: 0.9667\n",
      "Epoch 100/163\n",
      "68/68 [==============================] - 6s 89ms/step - loss: 0.0681 - accuracy: 0.9750 - val_loss: 0.1019 - val_accuracy: 0.9593\n",
      "Epoch 101/163\n",
      "68/68 [==============================] - 6s 91ms/step - loss: 0.0721 - accuracy: 0.9745 - val_loss: 0.0890 - val_accuracy: 0.9648\n",
      "Epoch 102/163\n",
      "68/68 [==============================] - 6s 84ms/step - loss: 0.0703 - accuracy: 0.9769 - val_loss: 0.0912 - val_accuracy: 0.9648\n",
      "Epoch 103/163\n",
      "68/68 [==============================] - 6s 82ms/step - loss: 0.0631 - accuracy: 0.9782 - val_loss: 0.0874 - val_accuracy: 0.9667\n",
      "Epoch 104/163\n",
      "68/68 [==============================] - 6s 86ms/step - loss: 0.0673 - accuracy: 0.9759 - val_loss: 0.0883 - val_accuracy: 0.9630\n",
      "Epoch 105/163\n",
      "68/68 [==============================] - 6s 82ms/step - loss: 0.0679 - accuracy: 0.9755 - val_loss: 0.0865 - val_accuracy: 0.9648\n",
      "Epoch 106/163\n",
      "68/68 [==============================] - 6s 83ms/step - loss: 0.0563 - accuracy: 0.9829 - val_loss: 0.0845 - val_accuracy: 0.9667\n",
      "Epoch 107/163\n",
      "68/68 [==============================] - 6s 84ms/step - loss: 0.0597 - accuracy: 0.9773 - val_loss: 0.0818 - val_accuracy: 0.9667\n",
      "Epoch 108/163\n",
      "68/68 [==============================] - 6s 82ms/step - loss: 0.0678 - accuracy: 0.9769 - val_loss: 0.0818 - val_accuracy: 0.9630\n",
      "Epoch 109/163\n",
      "68/68 [==============================] - 6s 82ms/step - loss: 0.0607 - accuracy: 0.9787 - val_loss: 0.0796 - val_accuracy: 0.9667\n",
      "Epoch 110/163\n",
      "68/68 [==============================] - 6s 83ms/step - loss: 0.0568 - accuracy: 0.9824 - val_loss: 0.0806 - val_accuracy: 0.9630\n",
      "Epoch 111/163\n",
      "68/68 [==============================] - 6s 82ms/step - loss: 0.0658 - accuracy: 0.9792 - val_loss: 0.0787 - val_accuracy: 0.9667\n",
      "Epoch 112/163\n",
      "68/68 [==============================] - 6s 81ms/step - loss: 0.0610 - accuracy: 0.9806 - val_loss: 0.0779 - val_accuracy: 0.9667\n",
      "Epoch 113/163\n",
      "68/68 [==============================] - 6s 83ms/step - loss: 0.0554 - accuracy: 0.9819 - val_loss: 0.0763 - val_accuracy: 0.9722\n",
      "Epoch 114/163\n",
      "68/68 [==============================] - 6s 84ms/step - loss: 0.0521 - accuracy: 0.9810 - val_loss: 0.0757 - val_accuracy: 0.9685\n",
      "Epoch 115/163\n",
      "68/68 [==============================] - 6s 83ms/step - loss: 0.0545 - accuracy: 0.9847 - val_loss: 0.0743 - val_accuracy: 0.9704\n",
      "Epoch 116/163\n",
      "68/68 [==============================] - 6s 92ms/step - loss: 0.0487 - accuracy: 0.9815 - val_loss: 0.0740 - val_accuracy: 0.9704\n",
      "Epoch 117/163\n",
      "68/68 [==============================] - 6s 94ms/step - loss: 0.0520 - accuracy: 0.9815 - val_loss: 0.0729 - val_accuracy: 0.9741\n",
      "Epoch 118/163\n",
      "68/68 [==============================] - 6s 93ms/step - loss: 0.0524 - accuracy: 0.9801 - val_loss: 0.0736 - val_accuracy: 0.9741\n",
      "Epoch 119/163\n",
      "68/68 [==============================] - 6s 86ms/step - loss: 0.0486 - accuracy: 0.9829 - val_loss: 0.0726 - val_accuracy: 0.9722\n",
      "Epoch 120/163\n",
      "68/68 [==============================] - 6s 84ms/step - loss: 0.0556 - accuracy: 0.9833 - val_loss: 0.0715 - val_accuracy: 0.9741\n",
      "Epoch 121/163\n"
     ]
    },
    {
     "name": "stdout",
     "output_type": "stream",
     "text": [
      "68/68 [==============================] - 6s 81ms/step - loss: 0.0420 - accuracy: 0.9866 - val_loss: 0.0699 - val_accuracy: 0.9741\n",
      "Epoch 122/163\n",
      "68/68 [==============================] - 6s 82ms/step - loss: 0.0423 - accuracy: 0.9880 - val_loss: 0.0709 - val_accuracy: 0.9741\n",
      "Epoch 123/163\n",
      "68/68 [==============================] - 6s 88ms/step - loss: 0.0496 - accuracy: 0.9833 - val_loss: 0.0700 - val_accuracy: 0.9722\n",
      "Epoch 124/163\n",
      "68/68 [==============================] - 7s 100ms/step - loss: 0.0549 - accuracy: 0.9829 - val_loss: 0.0712 - val_accuracy: 0.9722\n",
      "Epoch 125/163\n",
      "68/68 [==============================] - 6s 92ms/step - loss: 0.0464 - accuracy: 0.9829 - val_loss: 0.0761 - val_accuracy: 0.9667\n",
      "Epoch 126/163\n",
      "68/68 [==============================] - 6s 95ms/step - loss: 0.0469 - accuracy: 0.9856 - val_loss: 0.0746 - val_accuracy: 0.9648\n",
      "Epoch 127/163\n",
      "68/68 [==============================] - 6s 84ms/step - loss: 0.0482 - accuracy: 0.9838 - val_loss: 0.0700 - val_accuracy: 0.9722\n",
      "Epoch 128/163\n",
      "68/68 [==============================] - 6s 95ms/step - loss: 0.0419 - accuracy: 0.9861 - val_loss: 0.0727 - val_accuracy: 0.9685\n"
     ]
    }
   ],
   "source": [
    "fine_tune_epochs = 100\n",
    "total_epochs =  history.epoch[-1] + fine_tune_epochs\n",
    "\n",
    "callback = tf.keras.callbacks.EarlyStopping(monitor='val_loss', patience=7)\n",
    "\n",
    "history_fine = model.fit(\n",
    "    train_ds,\n",
    "    epochs=total_epochs,\n",
    "    initial_epoch=history.epoch[-1],\n",
    "    validation_data=val_ds,\n",
    "    callbacks = [callback]\n",
    ")\n"
   ]
  },
  {
   "cell_type": "code",
   "execution_count": 20,
   "metadata": {
    "scrolled": false
   },
   "outputs": [
    {
     "data": {
      "image/png": "[encoded data removed]",
      "text/plain": [
       "<Figure size 432x288 with 1 Axes>"
      ]
     },
     "metadata": {
      "needs_background": "light"
     },
     "output_type": "display_data"
    }
   ],
   "source": [
    "'''\n",
    "Plot the total accuracy\n",
    "'''\n",
    "n = len(history.history['accuracy']) + len(history_fine.history['accuracy'])\n",
    "\n",
    "pyplot.title(\"Accuracy\")\n",
    "pyplot.plot(range(n), history.history['accuracy'] + history_fine.history['accuracy'], label = \"Train\")\n",
    "pyplot.plot(range(n), history.history['val_accuracy'] + history_fine.history['val_accuracy'], label = \"Validation\")\n",
    "\n",
    "pyplot.axvline(x=len(history.history['loss']), color='red')\n",
    "pyplot.ylim((0.6,1.01))\n",
    "pyplot.legend()\n",
    "pyplot.show()\n"
   ]
  },
  {
   "cell_type": "code",
   "execution_count": 21,
   "metadata": {
    "scrolled": false
   },
   "outputs": [
    {
     "data": {
      "image/png": "[encoded data removed]",
      "text/plain": [
       "<Figure size 432x288 with 1 Axes>"
      ]
     },
     "metadata": {
      "needs_background": "light"
     },
     "output_type": "display_data"
    }
   ],
   "source": [
    "'''\n",
    "Plot the fine tuning accuracy\n",
    "'''\n",
    "a = len(history.history['accuracy'])\n",
    "b = len(history_fine.history['accuracy'])\n",
    "c = a+b\n",
    "\n",
    "pyplot.title(\"Accuracy\")\n",
    "pyplot.plot(range(a,c), history_fine.history['accuracy'], label = \"Train\")\n",
    "pyplot.plot(range(a,c), history_fine.history['val_accuracy'], label = \"Validation\")\n",
    "pyplot.legend()\n",
    "pyplot.show()\n"
   ]
  },
  {
   "cell_type": "code",
   "execution_count": 22,
   "metadata": {
    "scrolled": true
   },
   "outputs": [
    {
     "name": "stdout",
     "output_type": "stream",
     "text": [
      "INFO:tensorflow:Assets written to: models/experiment_005b/assets\n"
     ]
    }
   ],
   "source": [
    "model.save('models/experiment_005b')"
   ]
  },
  {
   "cell_type": "code",
   "execution_count": null,
   "metadata": {},
   "outputs": [],
   "source": []
  }
 ],
 "metadata": {
  "kernelspec": {
   "display_name": "Python 3",
   "language": "python",
   "name": "python3"
  }
 },
 "nbformat": 4,
 "nbformat_minor": 4
}
