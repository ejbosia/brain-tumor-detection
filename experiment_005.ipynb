{
 "cells": [
  {
   "cell_type": "markdown",
   "metadata": {},
   "source": [
    "# Experiment 5\n",
    "Apply transfer learning to MobileNetV2 (trained on ImageNet) with data augmentation"
   ]
  },
  {
   "cell_type": "code",
   "execution_count": 1,
   "metadata": {},
   "outputs": [],
   "source": [
    "# model training using tensorflow\n",
    "import numpy as np\n",
    "import os\n",
    "import cv2\n",
    "from matplotlib import pyplot\n",
    "\n",
    "import tensorflow as tf\n",
    "\n",
    "from tensorflow import keras\n",
    "from tensorflow.keras import layers\n",
    "from tensorflow.keras.models import Sequential"
   ]
  },
  {
   "cell_type": "code",
   "execution_count": 2,
   "metadata": {},
   "outputs": [
    {
     "name": "stdout",
     "output_type": "stream",
     "text": [
      "Num GPUs Available:  1\n",
      "1\n"
     ]
    }
   ],
   "source": [
    "'''\n",
    "Configuration Code\n",
    "'''\n",
    "def get_n_cores():\n",
    "    \"\"\"The NSLOTS variable, If NSLOTS is not defined throw an exception.\"\"\"\n",
    "    nslots = os.getenv(\"NSLOTS\")\n",
    "    if nslots is not None:\n",
    "        return int(nslots)\n",
    "    raise ValueError(\"Environment variable NSLOTS is not defined.\")\n",
    "\n",
    "\n",
    "os.environ[\"TF_CPP_MIN_LOG_LEVEL\"] = \"3\"\n",
    "\n",
    "NUM_GPUS = len(tf.config.experimental.list_physical_devices(\"GPU\"))\n",
    "print(\"Num GPUs Available: \", NUM_GPUS)\n",
    "if NUM_GPUS > 0:\n",
    "    print(os.getenv(\"CUDA_VISIBLE_DEVICES\"))\n",
    "\n",
    "tf.config.set_soft_device_placement(True)\n",
    "tf.keras.backend.set_floatx(\"float32\")\n",
    "tf.config.threading.set_intra_op_parallelism_threads(1)\n",
    "tf.config.threading.set_inter_op_parallelism_threads(get_n_cores())"
   ]
  },
  {
   "cell_type": "code",
   "execution_count": 3,
   "metadata": {},
   "outputs": [
    {
     "name": "stdout",
     "output_type": "stream",
     "text": [
      "Found 3000 files belonging to 2 classes.\n",
      "Using 2400 files for training.\n"
     ]
    }
   ],
   "source": [
    "batch_size = 32\n",
    "\n",
    "DATA_DIRECTORY = os.path.join(os.getcwd(), 'data', 'formatted_data')\n",
    "\n",
    "size = (224,224) # height, width\n",
    "\n",
    "train_ds = tf.keras.preprocessing.image_dataset_from_directory(\n",
    "  DATA_DIRECTORY,\n",
    "  validation_split=0.2,\n",
    "  subset=\"training\",\n",
    "  seed=123,\n",
    "  image_size=size,\n",
    "  batch_size=batch_size\n",
    ")"
   ]
  },
  {
   "cell_type": "code",
   "execution_count": 4,
   "metadata": {
    "scrolled": true
   },
   "outputs": [
    {
     "name": "stdout",
     "output_type": "stream",
     "text": [
      "Found 3000 files belonging to 2 classes.\n",
      "Using 600 files for validation.\n"
     ]
    }
   ],
   "source": [
    "val_ds = tf.keras.preprocessing.image_dataset_from_directory(\n",
    "  DATA_DIRECTORY,\n",
    "  validation_split=0.2,\n",
    "  subset=\"validation\",\n",
    "  seed=123,\n",
    "  image_size=size,\n",
    "  batch_size=batch_size\n",
    ")"
   ]
  },
  {
   "cell_type": "code",
   "execution_count": 5,
   "metadata": {},
   "outputs": [],
   "source": [
    "'''\n",
    "Set the base model to MobileNetV2 (trained on ImageNet)\n",
    "'''\n",
    "IMG_SHAPE = size + (3,)\n",
    "base_model = tf.keras.applications.MobileNetV2(input_shape=IMG_SHAPE,\n",
    "                                               include_top=False,\n",
    "                                               weights='imagenet')"
   ]
  },
  {
   "cell_type": "code",
   "execution_count": 6,
   "metadata": {},
   "outputs": [],
   "source": [
    "# do not allow the NN to train the base network\n",
    "base_model.trainable = False"
   ]
  },
  {
   "cell_type": "code",
   "execution_count": 7,
   "metadata": {},
   "outputs": [],
   "source": [
    "# create the additional layers for the end\n",
    "global_average_layer = tf.keras.layers.GlobalAveragePooling2D()\n",
    "prediction_layer = tf.keras.layers.Dense(2)"
   ]
  },
  {
   "cell_type": "code",
   "execution_count": 8,
   "metadata": {},
   "outputs": [],
   "source": [
    "normalization_layer = layers.experimental.preprocessing.Rescaling(1./255, input_shape=(224,224,3))"
   ]
  },
  {
   "cell_type": "code",
   "execution_count": 9,
   "metadata": {
    "scrolled": false
   },
   "outputs": [],
   "source": [
    "data_augmentation = keras.Sequential(\n",
    "  [\n",
    "    layers.experimental.preprocessing.RandomFlip(\"horizontal\", input_shape=(224,224,3)),\n",
    "    layers.experimental.preprocessing.RandomRotation(0.1),\n",
    "    layers.experimental.preprocessing.RandomZoom(0.1),\n",
    "  ]\n",
    ")"
   ]
  },
  {
   "cell_type": "code",
   "execution_count": 10,
   "metadata": {},
   "outputs": [],
   "source": [
    "# chain the layers together to make the complete model\n",
    "inputs = tf.keras.Input(shape=(224, 224, 3))\n",
    "x = normalization_layer(inputs)\n",
    "x = data_augmentation(x)\n",
    "x = base_model(x, training=False)\n",
    "x = global_average_layer(x)\n",
    "x = tf.keras.layers.Dropout(0.2)(x)\n",
    "outputs = prediction_layer(x)\n",
    "model = tf.keras.Model(inputs, outputs)"
   ]
  },
  {
   "cell_type": "code",
   "execution_count": 14,
   "metadata": {},
   "outputs": [],
   "source": [
    "# we need a low learning rate to avoid overfitting\n",
    "base_learning_rate = 0.0001\n",
    "\n",
    "model.compile(\n",
    "    optimizer=tf.keras.optimizers.Adam(lr=base_learning_rate),\n",
    "    loss=tf.keras.losses.SparseCategoricalCrossentropy(from_logits=True),\n",
    "    metrics=['accuracy']\n",
    ")"
   ]
  },
  {
   "cell_type": "code",
   "execution_count": 15,
   "metadata": {
    "scrolled": true
   },
   "outputs": [
    {
     "name": "stdout",
     "output_type": "stream",
     "text": [
      "Epoch 1/100\n",
      "75/75 [==============================] - 6s 80ms/step - loss: 0.9088 - accuracy: 0.5188 - val_loss: 0.6832 - val_accuracy: 0.5850\n",
      "Epoch 2/100\n",
      "75/75 [==============================] - 5s 69ms/step - loss: 0.6774 - accuracy: 0.6263 - val_loss: 0.5601 - val_accuracy: 0.7233\n",
      "Epoch 3/100\n",
      "75/75 [==============================] - 5s 68ms/step - loss: 0.5874 - accuracy: 0.6804 - val_loss: 0.4775 - val_accuracy: 0.8150\n",
      "Epoch 4/100\n",
      "75/75 [==============================] - 5s 69ms/step - loss: 0.5258 - accuracy: 0.7404 - val_loss: 0.4234 - val_accuracy: 0.8333\n",
      "Epoch 5/100\n",
      "75/75 [==============================] - 5s 68ms/step - loss: 0.4713 - accuracy: 0.7808 - val_loss: 0.3881 - val_accuracy: 0.8550\n",
      "Epoch 6/100\n",
      "75/75 [==============================] - 5s 70ms/step - loss: 0.4359 - accuracy: 0.8037 - val_loss: 0.3617 - val_accuracy: 0.8683\n",
      "Epoch 7/100\n",
      "75/75 [==============================] - 5s 68ms/step - loss: 0.4051 - accuracy: 0.8233 - val_loss: 0.3429 - val_accuracy: 0.8700\n",
      "Epoch 8/100\n",
      "75/75 [==============================] - 5s 69ms/step - loss: 0.3855 - accuracy: 0.8358 - val_loss: 0.3264 - val_accuracy: 0.8750\n",
      "Epoch 9/100\n",
      "75/75 [==============================] - 5s 68ms/step - loss: 0.3546 - accuracy: 0.8525 - val_loss: 0.3125 - val_accuracy: 0.8867\n",
      "Epoch 10/100\n",
      "75/75 [==============================] - 5s 68ms/step - loss: 0.3403 - accuracy: 0.8667 - val_loss: 0.3008 - val_accuracy: 0.8867\n",
      "Epoch 11/100\n",
      "75/75 [==============================] - 5s 67ms/step - loss: 0.3316 - accuracy: 0.8596 - val_loss: 0.2919 - val_accuracy: 0.8933\n",
      "Epoch 12/100\n",
      "75/75 [==============================] - 5s 69ms/step - loss: 0.3226 - accuracy: 0.8696 - val_loss: 0.2830 - val_accuracy: 0.8950\n",
      "Epoch 13/100\n",
      "75/75 [==============================] - 5s 66ms/step - loss: 0.3133 - accuracy: 0.8733 - val_loss: 0.2765 - val_accuracy: 0.8917\n",
      "Epoch 14/100\n",
      "75/75 [==============================] - 5s 67ms/step - loss: 0.3051 - accuracy: 0.8775 - val_loss: 0.2677 - val_accuracy: 0.8967\n",
      "Epoch 15/100\n",
      "75/75 [==============================] - 5s 68ms/step - loss: 0.2920 - accuracy: 0.8821 - val_loss: 0.2620 - val_accuracy: 0.9017\n",
      "Epoch 16/100\n",
      "75/75 [==============================] - 5s 66ms/step - loss: 0.2942 - accuracy: 0.8767 - val_loss: 0.2587 - val_accuracy: 0.9067\n",
      "Epoch 17/100\n",
      "75/75 [==============================] - 5s 65ms/step - loss: 0.2739 - accuracy: 0.8858 - val_loss: 0.2511 - val_accuracy: 0.9150\n",
      "Epoch 18/100\n",
      "75/75 [==============================] - 5s 65ms/step - loss: 0.2682 - accuracy: 0.8896 - val_loss: 0.2445 - val_accuracy: 0.9133\n",
      "Epoch 19/100\n",
      "75/75 [==============================] - 5s 64ms/step - loss: 0.2543 - accuracy: 0.9038 - val_loss: 0.2434 - val_accuracy: 0.9167\n",
      "Epoch 20/100\n",
      "75/75 [==============================] - 5s 65ms/step - loss: 0.2560 - accuracy: 0.9017 - val_loss: 0.2405 - val_accuracy: 0.9183\n",
      "Epoch 21/100\n",
      "75/75 [==============================] - 5s 66ms/step - loss: 0.2556 - accuracy: 0.9021 - val_loss: 0.2384 - val_accuracy: 0.9167\n",
      "Epoch 22/100\n",
      "75/75 [==============================] - 5s 65ms/step - loss: 0.2463 - accuracy: 0.9092 - val_loss: 0.2340 - val_accuracy: 0.9183\n",
      "Epoch 23/100\n",
      "75/75 [==============================] - 5s 64ms/step - loss: 0.2364 - accuracy: 0.9096 - val_loss: 0.2310 - val_accuracy: 0.9183\n",
      "Epoch 24/100\n",
      "75/75 [==============================] - 5s 66ms/step - loss: 0.2350 - accuracy: 0.9112 - val_loss: 0.2289 - val_accuracy: 0.9167\n",
      "Epoch 25/100\n",
      "75/75 [==============================] - 5s 65ms/step - loss: 0.2304 - accuracy: 0.9133 - val_loss: 0.2265 - val_accuracy: 0.9200\n",
      "Epoch 26/100\n",
      "75/75 [==============================] - 5s 64ms/step - loss: 0.2399 - accuracy: 0.9033 - val_loss: 0.2230 - val_accuracy: 0.9183\n",
      "Epoch 27/100\n",
      "75/75 [==============================] - 5s 66ms/step - loss: 0.2263 - accuracy: 0.9121 - val_loss: 0.2237 - val_accuracy: 0.9217\n",
      "Epoch 28/100\n",
      "75/75 [==============================] - 5s 68ms/step - loss: 0.2256 - accuracy: 0.9171 - val_loss: 0.2154 - val_accuracy: 0.9200\n",
      "Epoch 29/100\n",
      "75/75 [==============================] - 5s 68ms/step - loss: 0.2091 - accuracy: 0.9221 - val_loss: 0.2132 - val_accuracy: 0.9183\n",
      "Epoch 30/100\n",
      "75/75 [==============================] - 5s 67ms/step - loss: 0.2227 - accuracy: 0.9133 - val_loss: 0.2139 - val_accuracy: 0.9250\n",
      "Epoch 31/100\n",
      "75/75 [==============================] - 5s 68ms/step - loss: 0.2115 - accuracy: 0.9192 - val_loss: 0.2111 - val_accuracy: 0.9250\n",
      "Epoch 32/100\n",
      "75/75 [==============================] - 5s 66ms/step - loss: 0.2213 - accuracy: 0.9137 - val_loss: 0.2089 - val_accuracy: 0.9250\n",
      "Epoch 33/100\n",
      "75/75 [==============================] - 5s 67ms/step - loss: 0.2067 - accuracy: 0.9233 - val_loss: 0.2048 - val_accuracy: 0.9283\n",
      "Epoch 34/100\n",
      "75/75 [==============================] - 5s 65ms/step - loss: 0.2069 - accuracy: 0.9254 - val_loss: 0.2068 - val_accuracy: 0.9267\n",
      "Epoch 35/100\n",
      "75/75 [==============================] - 5s 65ms/step - loss: 0.2124 - accuracy: 0.9125 - val_loss: 0.2091 - val_accuracy: 0.9283\n",
      "Epoch 36/100\n",
      "75/75 [==============================] - 5s 66ms/step - loss: 0.2012 - accuracy: 0.9254 - val_loss: 0.2012 - val_accuracy: 0.9267\n",
      "Epoch 37/100\n",
      "75/75 [==============================] - 5s 65ms/step - loss: 0.1987 - accuracy: 0.9267 - val_loss: 0.2015 - val_accuracy: 0.9317\n",
      "Epoch 38/100\n",
      "75/75 [==============================] - 5s 65ms/step - loss: 0.1994 - accuracy: 0.9300 - val_loss: 0.1979 - val_accuracy: 0.9283\n",
      "Epoch 39/100\n",
      "75/75 [==============================] - 5s 66ms/step - loss: 0.1952 - accuracy: 0.9271 - val_loss: 0.1991 - val_accuracy: 0.9317\n",
      "Epoch 40/100\n",
      "75/75 [==============================] - 5s 64ms/step - loss: 0.1877 - accuracy: 0.9296 - val_loss: 0.1960 - val_accuracy: 0.9317\n",
      "Epoch 41/100\n",
      "75/75 [==============================] - 5s 67ms/step - loss: 0.1999 - accuracy: 0.9246 - val_loss: 0.1907 - val_accuracy: 0.9333\n",
      "Epoch 42/100\n",
      "75/75 [==============================] - 5s 67ms/step - loss: 0.1910 - accuracy: 0.9312 - val_loss: 0.1929 - val_accuracy: 0.9317\n",
      "Epoch 43/100\n",
      "75/75 [==============================] - 5s 65ms/step - loss: 0.1834 - accuracy: 0.9342 - val_loss: 0.1880 - val_accuracy: 0.9333\n",
      "Epoch 44/100\n",
      "75/75 [==============================] - 5s 65ms/step - loss: 0.1944 - accuracy: 0.9271 - val_loss: 0.1865 - val_accuracy: 0.9317\n",
      "Epoch 45/100\n",
      "75/75 [==============================] - 5s 66ms/step - loss: 0.1904 - accuracy: 0.9287 - val_loss: 0.1845 - val_accuracy: 0.9333\n",
      "Epoch 46/100\n",
      "75/75 [==============================] - 5s 66ms/step - loss: 0.1862 - accuracy: 0.9325 - val_loss: 0.1812 - val_accuracy: 0.9317\n",
      "Epoch 47/100\n",
      "75/75 [==============================] - 5s 63ms/step - loss: 0.1793 - accuracy: 0.9312 - val_loss: 0.1791 - val_accuracy: 0.9333\n",
      "Epoch 48/100\n",
      "75/75 [==============================] - 5s 66ms/step - loss: 0.1804 - accuracy: 0.9362 - val_loss: 0.1787 - val_accuracy: 0.9350\n",
      "Epoch 49/100\n",
      "75/75 [==============================] - 5s 64ms/step - loss: 0.1764 - accuracy: 0.9337 - val_loss: 0.1776 - val_accuracy: 0.9317\n",
      "Epoch 50/100\n",
      "75/75 [==============================] - 5s 67ms/step - loss: 0.1856 - accuracy: 0.9354 - val_loss: 0.1826 - val_accuracy: 0.9333\n",
      "Epoch 51/100\n",
      "75/75 [==============================] - 5s 65ms/step - loss: 0.1798 - accuracy: 0.9367 - val_loss: 0.1784 - val_accuracy: 0.9333\n",
      "Epoch 52/100\n",
      "75/75 [==============================] - 5s 66ms/step - loss: 0.1789 - accuracy: 0.9337 - val_loss: 0.1815 - val_accuracy: 0.9317\n",
      "Epoch 53/100\n",
      "75/75 [==============================] - 5s 65ms/step - loss: 0.1777 - accuracy: 0.9362 - val_loss: 0.1759 - val_accuracy: 0.9350\n",
      "Epoch 54/100\n",
      "75/75 [==============================] - 5s 66ms/step - loss: 0.1679 - accuracy: 0.9354 - val_loss: 0.1776 - val_accuracy: 0.9350\n",
      "Epoch 55/100\n",
      "75/75 [==============================] - 5s 66ms/step - loss: 0.1677 - accuracy: 0.9421 - val_loss: 0.1779 - val_accuracy: 0.9333\n",
      "Epoch 56/100\n",
      "75/75 [==============================] - 5s 66ms/step - loss: 0.1586 - accuracy: 0.9421 - val_loss: 0.1804 - val_accuracy: 0.9367\n",
      "Epoch 57/100\n",
      "75/75 [==============================] - 5s 67ms/step - loss: 0.1630 - accuracy: 0.9442 - val_loss: 0.1757 - val_accuracy: 0.9350\n",
      "Epoch 58/100\n"
     ]
    },
    {
     "name": "stdout",
     "output_type": "stream",
     "text": [
      "75/75 [==============================] - 5s 66ms/step - loss: 0.1696 - accuracy: 0.9329 - val_loss: 0.1756 - val_accuracy: 0.9350\n",
      "Epoch 59/100\n",
      "75/75 [==============================] - 5s 66ms/step - loss: 0.1724 - accuracy: 0.9417 - val_loss: 0.1738 - val_accuracy: 0.9350\n",
      "Epoch 60/100\n",
      "75/75 [==============================] - 5s 67ms/step - loss: 0.1740 - accuracy: 0.9392 - val_loss: 0.1789 - val_accuracy: 0.9400\n",
      "Epoch 61/100\n",
      "75/75 [==============================] - 5s 67ms/step - loss: 0.1670 - accuracy: 0.9383 - val_loss: 0.1719 - val_accuracy: 0.9367\n",
      "Epoch 62/100\n",
      "75/75 [==============================] - 5s 65ms/step - loss: 0.1670 - accuracy: 0.9367 - val_loss: 0.1711 - val_accuracy: 0.9383\n",
      "Epoch 63/100\n",
      "75/75 [==============================] - 5s 63ms/step - loss: 0.1516 - accuracy: 0.9500 - val_loss: 0.1695 - val_accuracy: 0.9400\n",
      "Epoch 64/100\n",
      "75/75 [==============================] - 5s 65ms/step - loss: 0.1617 - accuracy: 0.9429 - val_loss: 0.1703 - val_accuracy: 0.9383\n",
      "Epoch 65/100\n",
      "75/75 [==============================] - 5s 64ms/step - loss: 0.1547 - accuracy: 0.9496 - val_loss: 0.1664 - val_accuracy: 0.9417\n",
      "Epoch 66/100\n",
      "75/75 [==============================] - 5s 64ms/step - loss: 0.1621 - accuracy: 0.9417 - val_loss: 0.1658 - val_accuracy: 0.9417\n",
      "Epoch 67/100\n",
      "75/75 [==============================] - 5s 64ms/step - loss: 0.1584 - accuracy: 0.9400 - val_loss: 0.1671 - val_accuracy: 0.9400\n",
      "Epoch 68/100\n",
      "75/75 [==============================] - 5s 65ms/step - loss: 0.1559 - accuracy: 0.9463 - val_loss: 0.1659 - val_accuracy: 0.9400\n",
      "Epoch 69/100\n",
      "75/75 [==============================] - 5s 63ms/step - loss: 0.1600 - accuracy: 0.9392 - val_loss: 0.1642 - val_accuracy: 0.9467\n",
      "Epoch 70/100\n",
      "75/75 [==============================] - 5s 64ms/step - loss: 0.1529 - accuracy: 0.9392 - val_loss: 0.1684 - val_accuracy: 0.9433\n",
      "Epoch 71/100\n",
      "75/75 [==============================] - 5s 66ms/step - loss: 0.1610 - accuracy: 0.9463 - val_loss: 0.1648 - val_accuracy: 0.9483\n",
      "Epoch 72/100\n",
      "75/75 [==============================] - 5s 65ms/step - loss: 0.1525 - accuracy: 0.9442 - val_loss: 0.1705 - val_accuracy: 0.9417\n",
      "Epoch 73/100\n",
      "75/75 [==============================] - 5s 61ms/step - loss: 0.1624 - accuracy: 0.9362 - val_loss: 0.1658 - val_accuracy: 0.9467\n",
      "Epoch 74/100\n",
      "75/75 [==============================] - 5s 61ms/step - loss: 0.1644 - accuracy: 0.9333 - val_loss: 0.1660 - val_accuracy: 0.9467\n"
     ]
    }
   ],
   "source": [
    "epochs=100\n",
    "\n",
    "callback = tf.keras.callbacks.EarlyStopping(monitor='val_loss', patience=5)\n",
    "\n",
    "history = model.fit(\n",
    "    train_ds,\n",
    "    validation_data=val_ds,\n",
    "    epochs=epochs,\n",
    "    callbacks=[callback]\n",
    ")"
   ]
  },
  {
   "cell_type": "code",
   "execution_count": 17,
   "metadata": {
    "scrolled": true
   },
   "outputs": [
    {
     "data": {
      "image/png": "[encoded data removed]",
      "text/plain": [
       "<Figure size 432x288 with 1 Axes>"
      ]
     },
     "metadata": {
      "needs_background": "light"
     },
     "output_type": "display_data"
    }
   ],
   "source": [
    "'''\n",
    "Plot the accuracy\n",
    "'''\n",
    "pyplot.title(\"Accuracy\")\n",
    "pyplot.plot(range(len(history.history['accuracy'])), history.history['accuracy'], label = \"Train\")\n",
    "pyplot.plot(range(len(history.history['val_accuracy'])), history.history['val_accuracy'], label = \"Validation\")\n",
    "pyplot.legend()\n",
    "pyplot.show()"
   ]
  },
  {
   "cell_type": "code",
   "execution_count": 18,
   "metadata": {},
   "outputs": [
    {
     "name": "stdout",
     "output_type": "stream",
     "text": [
      "WARNING:tensorflow:From /share/pkg.7/tensorflow/2.3.1/install/lib/SCC/../python3.8/site-packages/tensorflow/python/training/tracking/tracking.py:111: Model.state_updates (from tensorflow.python.keras.engine.training) is deprecated and will be removed in a future version.\n",
      "Instructions for updating:\n",
      "This property should not be used in TensorFlow 2.0, as updates are applied automatically.\n"
     ]
    },
    {
     "name": "stderr",
     "output_type": "stream",
     "text": [
      "WARNING:tensorflow:From /share/pkg.7/tensorflow/2.3.1/install/lib/SCC/../python3.8/site-packages/tensorflow/python/training/tracking/tracking.py:111: Model.state_updates (from tensorflow.python.keras.engine.training) is deprecated and will be removed in a future version.\n",
      "Instructions for updating:\n",
      "This property should not be used in TensorFlow 2.0, as updates are applied automatically.\n"
     ]
    },
    {
     "name": "stdout",
     "output_type": "stream",
     "text": [
      "WARNING:tensorflow:From /share/pkg.7/tensorflow/2.3.1/install/lib/SCC/../python3.8/site-packages/tensorflow/python/training/tracking/tracking.py:111: Layer.updates (from tensorflow.python.keras.engine.base_layer) is deprecated and will be removed in a future version.\n",
      "Instructions for updating:\n",
      "This property should not be used in TensorFlow 2.0, as updates are applied automatically.\n"
     ]
    },
    {
     "name": "stderr",
     "output_type": "stream",
     "text": [
      "WARNING:tensorflow:From /share/pkg.7/tensorflow/2.3.1/install/lib/SCC/../python3.8/site-packages/tensorflow/python/training/tracking/tracking.py:111: Layer.updates (from tensorflow.python.keras.engine.base_layer) is deprecated and will be removed in a future version.\n",
      "Instructions for updating:\n",
      "This property should not be used in TensorFlow 2.0, as updates are applied automatically.\n"
     ]
    },
    {
     "name": "stdout",
     "output_type": "stream",
     "text": [
      "INFO:tensorflow:Assets written to: models/experiment_005a/assets\n"
     ]
    },
    {
     "name": "stderr",
     "output_type": "stream",
     "text": [
      "INFO:tensorflow:Assets written to: models/experiment_005a/assets\n"
     ]
    }
   ],
   "source": [
    "# save the model\n",
    "model.save(\"models/{}\".format(\"experiment_005a\"))"
   ]
  },
  {
   "cell_type": "markdown",
   "metadata": {},
   "source": [
    "Fine-tuning can hopefully improve the model still. The last 50 layers of MobileNetV2 will be unlocked to allow for gradient adjustments"
   ]
  },
  {
   "cell_type": "code",
   "execution_count": 21,
   "metadata": {},
   "outputs": [],
   "source": [
    "# change to fine tuning\n",
    "base_model.trainable = True\n",
    "\n",
    "# this is the layer to start fine tuning at\n",
    "fine_tune_at = len(base_model.layers) - 50\n",
    "\n",
    "# Freeze all the layers before the `fine_tune_at` layer\n",
    "for layer in base_model.layers[:fine_tune_at]:\n",
    "    layer.trainable =  False"
   ]
  },
  {
   "cell_type": "code",
   "execution_count": 22,
   "metadata": {},
   "outputs": [
    {
     "name": "stdout",
     "output_type": "stream",
     "text": [
      "Model: \"functional_1\"\n",
      "_________________________________________________________________\n",
      "Layer (type)                 Output Shape              Param #   \n",
      "=================================================================\n",
      "input_2 (InputLayer)         [(None, 224, 224, 3)]     0         \n",
      "_________________________________________________________________\n",
      "rescaling (Rescaling)        (None, 224, 224, 3)       0         \n",
      "_________________________________________________________________\n",
      "sequential (Sequential)      (None, 224, 224, 3)       0         \n",
      "_________________________________________________________________\n",
      "mobilenetv2_1.00_224 (Functi (None, 7, 7, 1280)        2257984   \n",
      "_________________________________________________________________\n",
      "global_average_pooling2d (Gl (None, 1280)              0         \n",
      "_________________________________________________________________\n",
      "dropout (Dropout)            (None, 1280)              0         \n",
      "_________________________________________________________________\n",
      "dense (Dense)                (None, 2)                 2562      \n",
      "=================================================================\n",
      "Total params: 2,260,546\n",
      "Trainable params: 1,857,666\n",
      "Non-trainable params: 402,880\n",
      "_________________________________________________________________\n"
     ]
    }
   ],
   "source": [
    "model.compile(loss=tf.keras.losses.SparseCategoricalCrossentropy(from_logits=True),\n",
    "              optimizer = tf.keras.optimizers.RMSprop(lr=base_learning_rate/100),\n",
    "              metrics=['accuracy'])\n",
    "\n",
    "model.summary()"
   ]
  },
  {
   "cell_type": "code",
   "execution_count": 24,
   "metadata": {},
   "outputs": [
    {
     "name": "stdout",
     "output_type": "stream",
     "text": [
      "Epoch 74/173\n",
      "75/75 [==============================] - 6s 81ms/step - loss: 0.1421 - accuracy: 0.9492 - val_loss: 0.1565 - val_accuracy: 0.9500\n",
      "Epoch 75/173\n",
      "75/75 [==============================] - 5s 71ms/step - loss: 0.1329 - accuracy: 0.9500 - val_loss: 0.1457 - val_accuracy: 0.9517\n",
      "Epoch 76/173\n",
      "75/75 [==============================] - 5s 72ms/step - loss: 0.1313 - accuracy: 0.9513 - val_loss: 0.1389 - val_accuracy: 0.9483\n",
      "Epoch 77/173\n",
      "75/75 [==============================] - 5s 72ms/step - loss: 0.1231 - accuracy: 0.9529 - val_loss: 0.1329 - val_accuracy: 0.9517\n",
      "Epoch 78/173\n",
      "75/75 [==============================] - 5s 72ms/step - loss: 0.1247 - accuracy: 0.9542 - val_loss: 0.1325 - val_accuracy: 0.9533\n",
      "Epoch 79/173\n",
      "75/75 [==============================] - 7s 94ms/step - loss: 0.1127 - accuracy: 0.9567 - val_loss: 0.1296 - val_accuracy: 0.9517\n",
      "Epoch 80/173\n",
      "75/75 [==============================] - 6s 77ms/step - loss: 0.1073 - accuracy: 0.9613 - val_loss: 0.1316 - val_accuracy: 0.9533\n",
      "Epoch 81/173\n",
      "75/75 [==============================] - 6s 81ms/step - loss: 0.1157 - accuracy: 0.9567 - val_loss: 0.1270 - val_accuracy: 0.9533\n",
      "Epoch 82/173\n",
      "75/75 [==============================] - 6s 75ms/step - loss: 0.1003 - accuracy: 0.9658 - val_loss: 0.1316 - val_accuracy: 0.9533\n",
      "Epoch 83/173\n",
      "75/75 [==============================] - 6s 77ms/step - loss: 0.1019 - accuracy: 0.9625 - val_loss: 0.1217 - val_accuracy: 0.9567\n",
      "Epoch 84/173\n",
      "75/75 [==============================] - 5s 69ms/step - loss: 0.1006 - accuracy: 0.9650 - val_loss: 0.1210 - val_accuracy: 0.9550\n",
      "Epoch 85/173\n",
      "75/75 [==============================] - 5s 67ms/step - loss: 0.0986 - accuracy: 0.9617 - val_loss: 0.1197 - val_accuracy: 0.9600\n",
      "Epoch 86/173\n",
      "75/75 [==============================] - 5s 69ms/step - loss: 0.0976 - accuracy: 0.9638 - val_loss: 0.1240 - val_accuracy: 0.9550\n",
      "Epoch 87/173\n",
      "75/75 [==============================] - 5s 70ms/step - loss: 0.1083 - accuracy: 0.9592 - val_loss: 0.1220 - val_accuracy: 0.9533\n",
      "Epoch 88/173\n",
      "75/75 [==============================] - 5s 65ms/step - loss: 0.0909 - accuracy: 0.9675 - val_loss: 0.1229 - val_accuracy: 0.9567\n",
      "Epoch 89/173\n",
      "75/75 [==============================] - 5s 67ms/step - loss: 0.0905 - accuracy: 0.9633 - val_loss: 0.1144 - val_accuracy: 0.9617\n",
      "Epoch 90/173\n",
      "75/75 [==============================] - 5s 67ms/step - loss: 0.0826 - accuracy: 0.9721 - val_loss: 0.1108 - val_accuracy: 0.9633\n",
      "Epoch 91/173\n",
      "75/75 [==============================] - 5s 67ms/step - loss: 0.0938 - accuracy: 0.9658 - val_loss: 0.1100 - val_accuracy: 0.9600\n",
      "Epoch 92/173\n",
      "75/75 [==============================] - 5s 66ms/step - loss: 0.0862 - accuracy: 0.9675 - val_loss: 0.1036 - val_accuracy: 0.9650\n",
      "Epoch 93/173\n",
      "75/75 [==============================] - 5s 67ms/step - loss: 0.0817 - accuracy: 0.9696 - val_loss: 0.1020 - val_accuracy: 0.9667\n",
      "Epoch 94/173\n",
      "75/75 [==============================] - 5s 69ms/step - loss: 0.0771 - accuracy: 0.9712 - val_loss: 0.1172 - val_accuracy: 0.9550\n",
      "Epoch 95/173\n",
      "75/75 [==============================] - 5s 68ms/step - loss: 0.0850 - accuracy: 0.9658 - val_loss: 0.1136 - val_accuracy: 0.9583\n",
      "Epoch 96/173\n",
      "75/75 [==============================] - 5s 70ms/step - loss: 0.0747 - accuracy: 0.9712 - val_loss: 0.1065 - val_accuracy: 0.9617\n",
      "Epoch 97/173\n",
      "75/75 [==============================] - 5s 67ms/step - loss: 0.0679 - accuracy: 0.9800 - val_loss: 0.1135 - val_accuracy: 0.9583\n",
      "Epoch 98/173\n",
      "75/75 [==============================] - 5s 67ms/step - loss: 0.0718 - accuracy: 0.9746 - val_loss: 0.0985 - val_accuracy: 0.9667\n",
      "Epoch 99/173\n",
      "75/75 [==============================] - 5s 67ms/step - loss: 0.0693 - accuracy: 0.9754 - val_loss: 0.1008 - val_accuracy: 0.9633\n",
      "Epoch 100/173\n",
      "75/75 [==============================] - 5s 67ms/step - loss: 0.0653 - accuracy: 0.9762 - val_loss: 0.1035 - val_accuracy: 0.9633\n",
      "Epoch 101/173\n",
      "75/75 [==============================] - 5s 69ms/step - loss: 0.0619 - accuracy: 0.9792 - val_loss: 0.0976 - val_accuracy: 0.9633\n",
      "Epoch 102/173\n",
      "75/75 [==============================] - 5s 71ms/step - loss: 0.0597 - accuracy: 0.9775 - val_loss: 0.1007 - val_accuracy: 0.9667\n",
      "Epoch 103/173\n",
      "75/75 [==============================] - 5s 71ms/step - loss: 0.0654 - accuracy: 0.9775 - val_loss: 0.0963 - val_accuracy: 0.9650\n",
      "Epoch 104/173\n",
      "75/75 [==============================] - 5s 69ms/step - loss: 0.0642 - accuracy: 0.9771 - val_loss: 0.1054 - val_accuracy: 0.9617\n",
      "Epoch 105/173\n",
      "75/75 [==============================] - 5s 67ms/step - loss: 0.0587 - accuracy: 0.9758 - val_loss: 0.0918 - val_accuracy: 0.9733\n",
      "Epoch 106/173\n",
      "75/75 [==============================] - 5s 67ms/step - loss: 0.0548 - accuracy: 0.9821 - val_loss: 0.0996 - val_accuracy: 0.9650\n",
      "Epoch 107/173\n",
      "75/75 [==============================] - 5s 67ms/step - loss: 0.0586 - accuracy: 0.9758 - val_loss: 0.0917 - val_accuracy: 0.9733\n",
      "Epoch 108/173\n",
      "75/75 [==============================] - 5s 71ms/step - loss: 0.0617 - accuracy: 0.9771 - val_loss: 0.0996 - val_accuracy: 0.9617\n",
      "Epoch 109/173\n",
      "75/75 [==============================] - 5s 71ms/step - loss: 0.0634 - accuracy: 0.9792 - val_loss: 0.0932 - val_accuracy: 0.9700\n",
      "Epoch 110/173\n",
      "75/75 [==============================] - 5s 73ms/step - loss: 0.0520 - accuracy: 0.9812 - val_loss: 0.0945 - val_accuracy: 0.9667\n",
      "Epoch 111/173\n",
      "75/75 [==============================] - 5s 67ms/step - loss: 0.0436 - accuracy: 0.9854 - val_loss: 0.0980 - val_accuracy: 0.9633\n",
      "Epoch 112/173\n",
      "75/75 [==============================] - 5s 67ms/step - loss: 0.0511 - accuracy: 0.9829 - val_loss: 0.0896 - val_accuracy: 0.9733\n",
      "Epoch 113/173\n",
      "75/75 [==============================] - 5s 69ms/step - loss: 0.0445 - accuracy: 0.9846 - val_loss: 0.0894 - val_accuracy: 0.9717\n",
      "Epoch 114/173\n",
      "75/75 [==============================] - 6s 84ms/step - loss: 0.0485 - accuracy: 0.9821 - val_loss: 0.0907 - val_accuracy: 0.9700\n",
      "Epoch 115/173\n",
      "75/75 [==============================] - 5s 66ms/step - loss: 0.0412 - accuracy: 0.9850 - val_loss: 0.0918 - val_accuracy: 0.9683\n",
      "Epoch 116/173\n",
      "75/75 [==============================] - 5s 68ms/step - loss: 0.0436 - accuracy: 0.9862 - val_loss: 0.0855 - val_accuracy: 0.9750\n",
      "Epoch 117/173\n",
      "75/75 [==============================] - 5s 69ms/step - loss: 0.0469 - accuracy: 0.9800 - val_loss: 0.0908 - val_accuracy: 0.9683\n",
      "Epoch 118/173\n",
      "75/75 [==============================] - 5s 66ms/step - loss: 0.0490 - accuracy: 0.9808 - val_loss: 0.0890 - val_accuracy: 0.9717\n",
      "Epoch 119/173\n",
      "75/75 [==============================] - 5s 73ms/step - loss: 0.0460 - accuracy: 0.9842 - val_loss: 0.0879 - val_accuracy: 0.9717\n",
      "Epoch 120/173\n",
      "75/75 [==============================] - 5s 66ms/step - loss: 0.0379 - accuracy: 0.9854 - val_loss: 0.0851 - val_accuracy: 0.9733\n",
      "Epoch 121/173\n",
      "75/75 [==============================] - 5s 71ms/step - loss: 0.0523 - accuracy: 0.9804 - val_loss: 0.0921 - val_accuracy: 0.9683\n",
      "Epoch 122/173\n",
      "75/75 [==============================] - 5s 66ms/step - loss: 0.0452 - accuracy: 0.9862 - val_loss: 0.0879 - val_accuracy: 0.9717\n",
      "Epoch 123/173\n",
      "75/75 [==============================] - 5s 70ms/step - loss: 0.0450 - accuracy: 0.9821 - val_loss: 0.0868 - val_accuracy: 0.9717\n",
      "Epoch 124/173\n",
      "75/75 [==============================] - 5s 68ms/step - loss: 0.0372 - accuracy: 0.9875 - val_loss: 0.0884 - val_accuracy: 0.9700\n",
      "Epoch 125/173\n",
      "75/75 [==============================] - 5s 67ms/step - loss: 0.0397 - accuracy: 0.9900 - val_loss: 0.0849 - val_accuracy: 0.9733\n",
      "Epoch 126/173\n",
      "75/75 [==============================] - 5s 67ms/step - loss: 0.0313 - accuracy: 0.9917 - val_loss: 0.0852 - val_accuracy: 0.9733\n",
      "Epoch 127/173\n",
      "75/75 [==============================] - 5s 67ms/step - loss: 0.0372 - accuracy: 0.9867 - val_loss: 0.0815 - val_accuracy: 0.9750\n",
      "Epoch 128/173\n",
      "75/75 [==============================] - 5s 69ms/step - loss: 0.0418 - accuracy: 0.9867 - val_loss: 0.0805 - val_accuracy: 0.9750\n",
      "Epoch 129/173\n",
      "75/75 [==============================] - 6s 76ms/step - loss: 0.0331 - accuracy: 0.9908 - val_loss: 0.0829 - val_accuracy: 0.9733\n",
      "Epoch 130/173\n",
      "75/75 [==============================] - 5s 68ms/step - loss: 0.0339 - accuracy: 0.9892 - val_loss: 0.0796 - val_accuracy: 0.9750\n",
      "Epoch 131/173\n"
     ]
    },
    {
     "name": "stdout",
     "output_type": "stream",
     "text": [
      "75/75 [==============================] - 5s 66ms/step - loss: 0.0359 - accuracy: 0.9862 - val_loss: 0.0883 - val_accuracy: 0.9683\n",
      "Epoch 132/173\n",
      "75/75 [==============================] - 5s 67ms/step - loss: 0.0308 - accuracy: 0.9887 - val_loss: 0.0775 - val_accuracy: 0.9783\n",
      "Epoch 133/173\n",
      "75/75 [==============================] - 5s 66ms/step - loss: 0.0344 - accuracy: 0.9879 - val_loss: 0.0854 - val_accuracy: 0.9700\n",
      "Epoch 134/173\n",
      "75/75 [==============================] - 5s 67ms/step - loss: 0.0289 - accuracy: 0.9917 - val_loss: 0.0854 - val_accuracy: 0.9700\n",
      "Epoch 135/173\n",
      "75/75 [==============================] - 5s 67ms/step - loss: 0.0331 - accuracy: 0.9879 - val_loss: 0.0818 - val_accuracy: 0.9733\n",
      "Epoch 136/173\n",
      "75/75 [==============================] - 5s 67ms/step - loss: 0.0364 - accuracy: 0.9862 - val_loss: 0.0873 - val_accuracy: 0.9700\n",
      "Epoch 137/173\n",
      "75/75 [==============================] - 5s 66ms/step - loss: 0.0361 - accuracy: 0.9887 - val_loss: 0.0850 - val_accuracy: 0.9700\n",
      "Epoch 138/173\n",
      "75/75 [==============================] - 5s 66ms/step - loss: 0.0272 - accuracy: 0.9925 - val_loss: 0.0779 - val_accuracy: 0.9750\n",
      "Epoch 139/173\n",
      "75/75 [==============================] - 5s 66ms/step - loss: 0.0344 - accuracy: 0.9883 - val_loss: 0.0795 - val_accuracy: 0.9733\n"
     ]
    }
   ],
   "source": [
    "fine_tune_epochs = 100\n",
    "total_epochs =  history.epoch[-1] + fine_tune_epochs\n",
    "\n",
    "callback = tf.keras.callbacks.EarlyStopping(monitor='val_loss', patience=7)\n",
    "\n",
    "history_fine = model.fit(\n",
    "    train_ds,\n",
    "    epochs=total_epochs,\n",
    "    initial_epoch=history.epoch[-1],\n",
    "    validation_data=val_ds,\n",
    "    callbacks = [callback]\n",
    ")\n"
   ]
  },
  {
   "cell_type": "code",
   "execution_count": 31,
   "metadata": {
    "scrolled": false
   },
   "outputs": [
    {
     "data": {
      "image/png": "[encoded data removed]",
      "text/plain": [
       "<Figure size 432x288 with 1 Axes>"
      ]
     },
     "metadata": {
      "needs_background": "light"
     },
     "output_type": "display_data"
    }
   ],
   "source": [
    "'''\n",
    "Plot the total accuracy\n",
    "'''\n",
    "n = len(history.history['accuracy']) + len(history_fine.history['accuracy'])\n",
    "\n",
    "pyplot.title(\"Accuracy\")\n",
    "pyplot.plot(range(n), history.history['accuracy'] + history_fine.history['accuracy'], label = \"Train\")\n",
    "pyplot.plot(range(n), history.history['val_accuracy'] + history_fine.history['val_accuracy'], label = \"Validation\")\n",
    "\n",
    "pyplot.axvline(x=len(history.history['loss']), color='red')\n",
    "pyplot.legend()\n",
    "pyplot.show()\n"
   ]
  },
  {
   "cell_type": "code",
   "execution_count": 32,
   "metadata": {
    "scrolled": false
   },
   "outputs": [
    {
     "data": {
      "image/png": "[encoded data removed]",
      "text/plain": [
       "<Figure size 432x288 with 1 Axes>"
      ]
     },
     "metadata": {
      "needs_background": "light"
     },
     "output_type": "display_data"
    }
   ],
   "source": [
    "'''\n",
    "Plot the fine tuning accuracy\n",
    "'''\n",
    "a = len(history.history['accuracy'])\n",
    "b = len(history_fine.history['accuracy'])\n",
    "c = a+b\n",
    "\n",
    "pyplot.title(\"Accuracy\")\n",
    "pyplot.plot(range(a,c), history_fine.history['accuracy'], label = \"Train\")\n",
    "pyplot.plot(range(a,c), history_fine.history['val_accuracy'], label = \"Validation\")\n",
    "pyplot.legend()\n",
    "pyplot.show()\n"
   ]
  },
  {
   "cell_type": "code",
   "execution_count": 33,
   "metadata": {
    "scrolled": true
   },
   "outputs": [
    {
     "name": "stdout",
     "output_type": "stream",
     "text": [
      "INFO:tensorflow:Assets written to: models/experiment_005b/assets\n"
     ]
    },
    {
     "name": "stderr",
     "output_type": "stream",
     "text": [
      "INFO:tensorflow:Assets written to: models/experiment_005b/assets\n"
     ]
    }
   ],
   "source": [
    "model.save('models/experiment_005b')"
   ]
  }
 ],
 "metadata": {
  "kernelspec": {
   "display_name": "Python 3",
   "language": "python",
   "name": "python3"
  },
  "language_info": {
   "codemirror_mode": {
    "name": "ipython",
    "version": 3
   },
   "file_extension": ".py",
   "mimetype": "text/x-python",
   "name": "python",
   "nbconvert_exporter": "python",
   "pygments_lexer": "ipython3",
   "version": "3.8.6"
  }
 },
 "nbformat": 4,
 "nbformat_minor": 4
}
