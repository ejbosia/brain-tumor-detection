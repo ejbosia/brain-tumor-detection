{
 "cells": [
  {
   "cell_type": "markdown",
   "metadata": {},
   "source": [
    "# Experiment Three\n",
    "This is the third experiment using three convolutional layers + dropout and no augmentation."
   ]
  },
  {
   "cell_type": "code",
   "execution_count": 1,
   "metadata": {},
   "outputs": [],
   "source": [
    "# model training using tensorflow\n",
    "import numpy as np\n",
    "import os\n",
    "import cv2\n",
    "from matplotlib import pyplot\n",
    "\n",
    "import tensorflow as tf\n",
    "\n",
    "from tensorflow import keras\n",
    "from tensorflow.keras import layers\n",
    "from tensorflow.keras.models import Sequential"
   ]
  },
  {
   "cell_type": "code",
   "execution_count": 2,
   "metadata": {},
   "outputs": [
    {
     "name": "stdout",
     "output_type": "stream",
     "text": [
      "Num GPUs Available:  1\n",
      "0\n"
     ]
    }
   ],
   "source": [
    "'''\n",
    "Configuration Code\n",
    "'''\n",
    "def get_n_cores():\n",
    "    \"\"\"The NSLOTS variable, If NSLOTS is not defined throw an exception.\"\"\"\n",
    "    nslots = os.getenv(\"NSLOTS\")\n",
    "    if nslots is not None:\n",
    "        return int(nslots)\n",
    "    raise ValueError(\"Environment variable NSLOTS is not defined.\")\n",
    "\n",
    "\n",
    "os.environ[\"TF_CPP_MIN_LOG_LEVEL\"] = \"3\"\n",
    "\n",
    "NUM_GPUS = len(tf.config.experimental.list_physical_devices(\"GPU\"))\n",
    "print(\"Num GPUs Available: \", NUM_GPUS)\n",
    "if NUM_GPUS > 0:\n",
    "    print(os.getenv(\"CUDA_VISIBLE_DEVICES\"))\n",
    "\n",
    "tf.config.set_soft_device_placement(True)\n",
    "tf.keras.backend.set_floatx(\"float32\")\n",
    "tf.config.threading.set_intra_op_parallelism_threads(1)\n",
    "tf.config.threading.set_inter_op_parallelism_threads(get_n_cores())"
   ]
  },
  {
   "cell_type": "code",
   "execution_count": 4,
   "metadata": {},
   "outputs": [
    {
     "name": "stdout",
     "output_type": "stream",
     "text": [
      "Found 2700 files belonging to 2 classes.\n",
      "Using 2160 files for training.\n"
     ]
    }
   ],
   "source": [
    "batch_size = 32\n",
    "\n",
    "DATA_DIRECTORY = os.path.join(os.getcwd(), 'train_data')\n",
    "\n",
    "size = (224,224) # height, width\n",
    "\n",
    "'''\n",
    "Load the training data\n",
    "'''\n",
    "train_ds = tf.keras.preprocessing.image_dataset_from_directory(\n",
    "  DATA_DIRECTORY,\n",
    "  validation_split=0.2,\n",
    "  subset=\"training\",\n",
    "  seed=123,\n",
    "  image_size=size,\n",
    "  batch_size=batch_size\n",
    ")"
   ]
  },
  {
   "cell_type": "code",
   "execution_count": 5,
   "metadata": {},
   "outputs": [
    {
     "name": "stdout",
     "output_type": "stream",
     "text": [
      "Found 2700 files belonging to 2 classes.\n",
      "Using 540 files for validation.\n"
     ]
    }
   ],
   "source": [
    "'''\n",
    "Load the validation data\n",
    "'''\n",
    "val_ds = tf.keras.preprocessing.image_dataset_from_directory(\n",
    "  DATA_DIRECTORY,\n",
    "  validation_split=0.2,\n",
    "  subset=\"validation\",\n",
    "  seed=123,\n",
    "  image_size=size,\n",
    "  batch_size=batch_size\n",
    ")"
   ]
  },
  {
   "cell_type": "code",
   "execution_count": 6,
   "metadata": {},
   "outputs": [],
   "source": [
    "# there are two classes\n",
    "num_classes = 2\n",
    "\n",
    "# normalize the input images\n",
    "normalization_layer = layers.experimental.preprocessing.Rescaling(1./255, input_shape=(224,224,3))\n",
    "\n",
    "model = Sequential([\n",
    "    normalization_layer,\n",
    "    layers.Conv2D(16, 3, padding='same', activation='relu'),\n",
    "    layers.MaxPooling2D(),\n",
    "    layers.Conv2D(32, 3, padding='same', activation='relu'),\n",
    "    layers.MaxPooling2D(),\n",
    "    layers.Conv2D(64, 3, padding='same', activation='relu'),\n",
    "    layers.MaxPooling2D(),\n",
    "    layers.Dropout(0.2),\n",
    "    layers.Flatten(),\n",
    "    layers.Dense(128, activation='relu'),\n",
    "    layers.Dense(num_classes)\n",
    "])"
   ]
  },
  {
   "cell_type": "code",
   "execution_count": 7,
   "metadata": {},
   "outputs": [],
   "source": [
    "model.compile(optimizer='adam',\n",
    "              loss=tf.keras.losses.SparseCategoricalCrossentropy(from_logits=True),\n",
    "              metrics=['accuracy']\n",
    "             )"
   ]
  },
  {
   "cell_type": "code",
   "execution_count": 8,
   "metadata": {},
   "outputs": [
    {
     "name": "stdout",
     "output_type": "stream",
     "text": [
      "Model: \"sequential\"\n",
      "_________________________________________________________________\n",
      "Layer (type)                 Output Shape              Param #   \n",
      "=================================================================\n",
      "rescaling (Rescaling)        (None, 224, 224, 3)       0         \n",
      "_________________________________________________________________\n",
      "conv2d (Conv2D)              (None, 224, 224, 16)      448       \n",
      "_________________________________________________________________\n",
      "max_pooling2d (MaxPooling2D) (None, 112, 112, 16)      0         \n",
      "_________________________________________________________________\n",
      "conv2d_1 (Conv2D)            (None, 112, 112, 32)      4640      \n",
      "_________________________________________________________________\n",
      "max_pooling2d_1 (MaxPooling2 (None, 56, 56, 32)        0         \n",
      "_________________________________________________________________\n",
      "conv2d_2 (Conv2D)            (None, 56, 56, 64)        18496     \n",
      "_________________________________________________________________\n",
      "max_pooling2d_2 (MaxPooling2 (None, 28, 28, 64)        0         \n",
      "_________________________________________________________________\n",
      "dropout (Dropout)            (None, 28, 28, 64)        0         \n",
      "_________________________________________________________________\n",
      "flatten (Flatten)            (None, 50176)             0         \n",
      "_________________________________________________________________\n",
      "dense (Dense)                (None, 128)               6422656   \n",
      "_________________________________________________________________\n",
      "dense_1 (Dense)              (None, 2)                 258       \n",
      "=================================================================\n",
      "Total params: 6,446,498\n",
      "Trainable params: 6,446,498\n",
      "Non-trainable params: 0\n",
      "_________________________________________________________________\n"
     ]
    }
   ],
   "source": [
    "model.summary()"
   ]
  },
  {
   "cell_type": "code",
   "execution_count": 9,
   "metadata": {},
   "outputs": [
    {
     "name": "stdout",
     "output_type": "stream",
     "text": [
      "Epoch 1/100\n",
      "68/68 [==============================] - 5s 80ms/step - loss: 0.7131 - accuracy: 0.5931 - val_loss: 0.5209 - val_accuracy: 0.7648\n",
      "Epoch 2/100\n",
      "68/68 [==============================] - 4s 65ms/step - loss: 0.4579 - accuracy: 0.7912 - val_loss: 0.3930 - val_accuracy: 0.8407\n",
      "Epoch 3/100\n",
      "68/68 [==============================] - 4s 64ms/step - loss: 0.3079 - accuracy: 0.8750 - val_loss: 0.3815 - val_accuracy: 0.8593\n",
      "Epoch 4/100\n",
      "68/68 [==============================] - 4s 65ms/step - loss: 0.1961 - accuracy: 0.9269 - val_loss: 0.3290 - val_accuracy: 0.8889\n",
      "Epoch 5/100\n",
      "68/68 [==============================] - 5s 67ms/step - loss: 0.1701 - accuracy: 0.9352 - val_loss: 0.3247 - val_accuracy: 0.8852\n",
      "Epoch 6/100\n",
      "68/68 [==============================] - 5s 72ms/step - loss: 0.1129 - accuracy: 0.9579 - val_loss: 0.3658 - val_accuracy: 0.9019\n",
      "Epoch 7/100\n",
      "68/68 [==============================] - 4s 61ms/step - loss: 0.0521 - accuracy: 0.9856 - val_loss: 0.3317 - val_accuracy: 0.9204\n",
      "Epoch 8/100\n",
      "68/68 [==============================] - 4s 62ms/step - loss: 0.0325 - accuracy: 0.9931 - val_loss: 0.3555 - val_accuracy: 0.9204\n"
     ]
    }
   ],
   "source": [
    "epochs=100\n",
    "\n",
    "# stop when the validation loss does not improve\n",
    "callback = tf.keras.callbacks.EarlyStopping(monitor='val_loss', patience=3)\n",
    "\n",
    "history = model.fit(\n",
    "    train_ds,\n",
    "    validation_data=val_ds,\n",
    "    epochs=epochs,\n",
    "    callbacks=[callback]\n",
    ")"
   ]
  },
  {
   "cell_type": "code",
   "execution_count": 11,
   "metadata": {
    "scrolled": true
   },
   "outputs": [
    {
     "data": {
      "image/png": "[encoded data removed]",
      "text/plain": [
       "<Figure size 432x288 with 1 Axes>"
      ]
     },
     "metadata": {
      "needs_background": "light"
     },
     "output_type": "display_data"
    }
   ],
   "source": [
    "'''\n",
    "Plot the accuracy\n",
    "'''\n",
    "pyplot.title(\"Accuracy\")\n",
    "pyplot.plot(range(len(history.history['accuracy'])), history.history['accuracy'], label = \"Train\")\n",
    "pyplot.plot(range(len(history.history['val_accuracy'])), history.history['val_accuracy'], label = \"Validation\")\n",
    "pyplot.ylim((0.75, 1.01))\n",
    "pyplot.legend()\n",
    "pyplot.show()"
   ]
  },
  {
   "cell_type": "code",
   "execution_count": null,
   "metadata": {},
   "outputs": [],
   "source": [
    "model.save('models/experiment_003')"
   ]
  },
  {
   "cell_type": "code",
   "execution_count": null,
   "metadata": {},
   "outputs": [],
   "source": []
  }
 ],
 "metadata": {
  "kernelspec": {
   "display_name": "Python 3",
   "language": "python",
   "name": "python3"
  },
  "language_info": {
   "codemirror_mode": {
    "name": "ipython",
    "version": 3
   },
   "file_extension": ".py",
   "mimetype": "text/x-python",
   "name": "python",
   "nbconvert_exporter": "python",
   "pygments_lexer": "ipython3",
   "version": "3.8.6"
  }
 },
 "nbformat": 4,
 "nbformat_minor": 4
}
