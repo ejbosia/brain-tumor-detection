{
 "cells": [
  {
   "cell_type": "code",
   "execution_count": 3,
   "metadata": {},
   "outputs": [],
   "source": [
    "import numpy as np\n",
    "import os\n",
    "\n",
    "# load image\n",
    "from PIL import Image"
   ]
  },
  {
   "cell_type": "code",
   "execution_count": 4,
   "metadata": {},
   "outputs": [
    {
     "data": {
      "text/plain": [
       "['no', 'yes', 'brain_tumor_dataset']"
      ]
     },
     "execution_count": 4,
     "metadata": {},
     "output_type": "execute_result"
    }
   ],
   "source": [
    "# get the folder structure\n",
    "folder = \"data\"\n",
    "\n",
    "next(os.walk(folder))[1]"
   ]
  },
  {
   "cell_type": "code",
   "execution_count": 6,
   "metadata": {},
   "outputs": [
    {
     "name": "stdout",
     "output_type": "stream",
     "text": [
      "Yes size: 155\n",
      "No size: 98\n"
     ]
    }
   ],
   "source": [
    "# load images into lists\n",
    "\n",
    "yes = [Image.open(os.path.join(\"data\",\"yes\",x)) for x in next(os.walk(os.path.join(\"data\",\"yes\")))[2]]\n",
    "no = [Image.open(os.path.join(\"data\",\"no\",x)) for x in next(os.walk(os.path.join(\"data\",\"no\")))[2]]\n",
    "\n",
    "print(\"Yes size: {}\".format(len(yes)))\n",
    "print(\"No size: {}\".format(len(no)))"
   ]
  },
  {
   "cell_type": "code",
   "execution_count": 7,
   "metadata": {},
   "outputs": [],
   "source": [
    "import torch as pt\n",
    "import torch.nn.functional as F\n",
    "import torchvision as ptv\n",
    "\n",
    "\n",
    "'''\n",
    "Using the example code from Andrew\n",
    " - this is the basic setup of a neural network ~ will want to change\n",
    "'''\n",
    "class TestCNN(pt.nn.Module):\n",
    "    \n",
    "    def __init__(self):\n",
    "        super.__init__()\n",
    "        \n",
    "        # define the layers of our module\n",
    "        self.conv1: pt.nn.Module = pt.nn.Conv2d(1, 10, kernel_size=5)\n",
    "        self.dropout1: pt.nn.Module = pt.nn.Dropout2d()\n",
    "        self.conv2: pt.nn.Module = pt.nn.Conv2d(10, 20, kernel_size=5)\n",
    "        self.dropout2: pt.nn.Module = pt.nn.Dropout2d()\n",
    "        self.fc1: pt.nn.Module = pt.nn.Linear(320, 75)\n",
    "        self.fc2: pt.nn.Module = pt.nn.Linear(75, 10)\n",
    "        self.logsoftmax: pt.nn.Module = pt.nn.LogSoftmax(dim=-1)\n",
    "\n",
    "    def forward(self, X: pt.Tensor) -> pt.Tensor:\n",
    "        X = F.relu(F.max_pool2d(self.conv1.forward(X), 2))\n",
    "        X = self.dropout1.forward(X)\n",
    "        X = F.relu(F.max_pool2d(self.conv2.forward(X), 2))\n",
    "        X = self.dropout2.forward(X)\n",
    "        X = X.view(-1, 320)\n",
    "        X = F.relu(self.fc1.forward(X))\n",
    "        X = F.relu(self.fc2.forward(X))\n",
    "        return self.logsoftmax.forward(X)"
   ]
  },
  {
   "cell_type": "code",
   "execution_count": null,
   "metadata": {},
   "outputs": [],
   "source": []
  }
 ],
 "metadata": {
  "kernelspec": {
   "display_name": "Python 3",
   "language": "python",
   "name": "python3"
  },
  "language_info": {
   "codemirror_mode": {
    "name": "ipython",
    "version": 3
   },
   "file_extension": ".py",
   "mimetype": "text/x-python",
   "name": "python",
   "nbconvert_exporter": "python",
   "pygments_lexer": "ipython3",
   "version": "3.8.6"
  }
 },
 "nbformat": 4,
 "nbformat_minor": 4
}
