{
 "cells": [
  {
   "cell_type": "markdown",
   "metadata": {},
   "source": [
    "# Model Evaluation\n",
    "Using this notebook to evaluate all of the models"
   ]
  },
  {
   "cell_type": "code",
   "execution_count": 1,
   "metadata": {},
   "outputs": [],
   "source": [
    "# model training using tensorflow\n",
    "import numpy as np\n",
    "import os\n",
    "from matplotlib import pyplot\n",
    "\n",
    "import pandas as pd\n",
    "\n",
    "import tensorflow as tf\n",
    "\n",
    "from tensorflow import keras"
   ]
  },
  {
   "cell_type": "code",
   "execution_count": 2,
   "metadata": {},
   "outputs": [
    {
     "name": "stdout",
     "output_type": "stream",
     "text": [
      "Num GPUs Available:  1\n",
      "0\n"
     ]
    }
   ],
   "source": [
    "'''\n",
    "Configuration Code\n",
    "'''\n",
    "def get_n_cores():\n",
    "    \"\"\"The NSLOTS variable, If NSLOTS is not defined throw an exception.\"\"\"\n",
    "    nslots = os.getenv(\"NSLOTS\")\n",
    "    if nslots is not None:\n",
    "        return int(nslots)\n",
    "    raise ValueError(\"Environment variable NSLOTS is not defined.\")\n",
    "\n",
    "\n",
    "os.environ[\"TF_CPP_MIN_LOG_LEVEL\"] = \"3\"\n",
    "\n",
    "NUM_GPUS = len(tf.config.experimental.list_physical_devices(\"GPU\"))\n",
    "print(\"Num GPUs Available: \", NUM_GPUS)\n",
    "if NUM_GPUS > 0:\n",
    "    print(os.getenv(\"CUDA_VISIBLE_DEVICES\"))\n",
    "\n",
    "tf.config.set_soft_device_placement(True)\n",
    "tf.keras.backend.set_floatx(\"float32\")\n",
    "tf.config.threading.set_intra_op_parallelism_threads(1)\n",
    "tf.config.threading.set_inter_op_parallelism_threads(get_n_cores())"
   ]
  },
  {
   "cell_type": "code",
   "execution_count": 3,
   "metadata": {},
   "outputs": [
    {
     "data": {
      "text/plain": [
       "['experiment_001',\n",
       " 'experiment_002',\n",
       " 'experiment_003',\n",
       " 'experiment_004',\n",
       " 'experiment_005a',\n",
       " 'experiment_005b']"
      ]
     },
     "execution_count": 3,
     "metadata": {},
     "output_type": "execute_result"
    }
   ],
   "source": [
    "# pull the filenames of all experiments\n",
    "models = [m for m in next(os.walk(\"models\"))[1] if \"experiment\" in m]\n",
    "models = sorted(models)\n",
    "models"
   ]
  },
  {
   "cell_type": "code",
   "execution_count": 4,
   "metadata": {},
   "outputs": [
    {
     "name": "stdout",
     "output_type": "stream",
     "text": [
      "Found 253 files belonging to 2 classes.\n"
     ]
    }
   ],
   "source": [
    "'''\n",
    "Try the test set on each model and gather data in list of dictionaries\n",
    "'''\n",
    "\n",
    "from sklearn.metrics import confusion_matrix\n",
    "from sklearn.metrics import classification_report\n",
    "\n",
    "TEST_DIRECTORY = os.path.join(os.getcwd(), 'backup_data', 'formatted_data')\n",
    "\n",
    "test_ds = tf.keras.preprocessing.image_dataset_from_directory(\n",
    "    TEST_DIRECTORY,\n",
    "    seed=123,\n",
    "    image_size=(224,224),\n",
    "    shuffle=False\n",
    ")\n",
    "\n",
    "results = []\n",
    "\n",
    "for m in models:\n",
    "    model = keras.models.load_model(\"models/{}\".format(m))\n",
    "    \n",
    "    predictions = np.argmax(model.predict(test_ds), axis=1)\n",
    "    actual = np.concatenate([y for x, y in test_ds], axis=0)\n",
    "    \n",
    "    report = classification_report(actual, predictions, output_dict=True)\n",
    "    cmatrix = confusion_matrix(actual, predictions)\n",
    "    \n",
    "    results.append({\n",
    "        \"name\": m,\n",
    "        \"size\": os.path.getsize(\"models/{}/saved_model.pb\".format(m)),\n",
    "        \"layers\": len(model.layers),\n",
    "        \"accuracy\": report['accuracy'],\n",
    "        \"true_pos\": cmatrix[1,1],\n",
    "        \"true_neg\": cmatrix[0,0],\n",
    "        \"false_pos\": cmatrix[1,0],\n",
    "        \"false_neg\": cmatrix[0,1],\n",
    "        \"pos_recall\": report['1']['recall'],\n",
    "        \"neg_recall\": report['0']['recall'],\n",
    "        \"pos_precision\": report['1']['precision'],\n",
    "        \"neg_precision\": report['0']['precision'],\n",
    "        \"pos_f1-score\": report['1']['f1-score'],\n",
    "        \"neg_f1-score\": report['0']['f1-score'],\n",
    "    })"
   ]
  },
  {
   "cell_type": "code",
   "execution_count": 5,
   "metadata": {
    "scrolled": true
   },
   "outputs": [
    {
     "data": {
      "text/html": [
       "<div>\n",
       "<style scoped>\n",
       "    .dataframe tbody tr th:only-of-type {\n",
       "        vertical-align: middle;\n",
       "    }\n",
       "\n",
       "    .dataframe tbody tr th {\n",
       "        vertical-align: top;\n",
       "    }\n",
       "\n",
       "    .dataframe thead th {\n",
       "        text-align: right;\n",
       "    }\n",
       "</style>\n",
       "<table border=\"1\" class=\"dataframe\">\n",
       "  <thead>\n",
       "    <tr style=\"text-align: right;\">\n",
       "      <th></th>\n",
       "      <th>name</th>\n",
       "      <th>size</th>\n",
       "      <th>layers</th>\n",
       "      <th>accuracy</th>\n",
       "      <th>true_pos</th>\n",
       "      <th>true_neg</th>\n",
       "      <th>false_pos</th>\n",
       "      <th>false_neg</th>\n",
       "      <th>pos_recall</th>\n",
       "      <th>neg_recall</th>\n",
       "      <th>pos_precision</th>\n",
       "      <th>neg_precision</th>\n",
       "      <th>pos_f1-score</th>\n",
       "      <th>neg_f1-score</th>\n",
       "    </tr>\n",
       "  </thead>\n",
       "  <tbody>\n",
       "    <tr>\n",
       "      <th>0</th>\n",
       "      <td>experiment_001</td>\n",
       "      <td>108772</td>\n",
       "      <td>6</td>\n",
       "      <td>0.968379</td>\n",
       "      <td>151</td>\n",
       "      <td>94</td>\n",
       "      <td>4</td>\n",
       "      <td>4</td>\n",
       "      <td>0.974194</td>\n",
       "      <td>0.959184</td>\n",
       "      <td>0.974194</td>\n",
       "      <td>0.959184</td>\n",
       "      <td>0.974194</td>\n",
       "      <td>0.959184</td>\n",
       "    </tr>\n",
       "    <tr>\n",
       "      <th>1</th>\n",
       "      <td>experiment_002</td>\n",
       "      <td>137029</td>\n",
       "      <td>8</td>\n",
       "      <td>0.956522</td>\n",
       "      <td>148</td>\n",
       "      <td>94</td>\n",
       "      <td>7</td>\n",
       "      <td>4</td>\n",
       "      <td>0.954839</td>\n",
       "      <td>0.959184</td>\n",
       "      <td>0.973684</td>\n",
       "      <td>0.930693</td>\n",
       "      <td>0.964169</td>\n",
       "      <td>0.944724</td>\n",
       "    </tr>\n",
       "    <tr>\n",
       "      <th>2</th>\n",
       "      <td>experiment_003</td>\n",
       "      <td>178843</td>\n",
       "      <td>11</td>\n",
       "      <td>0.980237</td>\n",
       "      <td>154</td>\n",
       "      <td>94</td>\n",
       "      <td>1</td>\n",
       "      <td>4</td>\n",
       "      <td>0.993548</td>\n",
       "      <td>0.959184</td>\n",
       "      <td>0.974684</td>\n",
       "      <td>0.989474</td>\n",
       "      <td>0.984026</td>\n",
       "      <td>0.974093</td>\n",
       "    </tr>\n",
       "    <tr>\n",
       "      <th>3</th>\n",
       "      <td>experiment_004</td>\n",
       "      <td>425921</td>\n",
       "      <td>12</td>\n",
       "      <td>0.964427</td>\n",
       "      <td>150</td>\n",
       "      <td>94</td>\n",
       "      <td>5</td>\n",
       "      <td>4</td>\n",
       "      <td>0.967742</td>\n",
       "      <td>0.959184</td>\n",
       "      <td>0.974026</td>\n",
       "      <td>0.949495</td>\n",
       "      <td>0.970874</td>\n",
       "      <td>0.954315</td>\n",
       "    </tr>\n",
       "    <tr>\n",
       "      <th>4</th>\n",
       "      <td>experiment_005a</td>\n",
       "      <td>3966087</td>\n",
       "      <td>7</td>\n",
       "      <td>0.936759</td>\n",
       "      <td>144</td>\n",
       "      <td>93</td>\n",
       "      <td>11</td>\n",
       "      <td>5</td>\n",
       "      <td>0.929032</td>\n",
       "      <td>0.948980</td>\n",
       "      <td>0.966443</td>\n",
       "      <td>0.894231</td>\n",
       "      <td>0.947368</td>\n",
       "      <td>0.920792</td>\n",
       "    </tr>\n",
       "    <tr>\n",
       "      <th>5</th>\n",
       "      <td>experiment_005b</td>\n",
       "      <td>4110284</td>\n",
       "      <td>7</td>\n",
       "      <td>0.968379</td>\n",
       "      <td>149</td>\n",
       "      <td>96</td>\n",
       "      <td>6</td>\n",
       "      <td>2</td>\n",
       "      <td>0.961290</td>\n",
       "      <td>0.979592</td>\n",
       "      <td>0.986755</td>\n",
       "      <td>0.941176</td>\n",
       "      <td>0.973856</td>\n",
       "      <td>0.960000</td>\n",
       "    </tr>\n",
       "  </tbody>\n",
       "</table>\n",
       "</div>"
      ],
      "text/plain": [
       "              name     size  layers  accuracy  true_pos  true_neg  false_pos  \\\n",
       "0   experiment_001   108772       6  0.968379       151        94          4   \n",
       "1   experiment_002   137029       8  0.956522       148        94          7   \n",
       "2   experiment_003   178843      11  0.980237       154        94          1   \n",
       "3   experiment_004   425921      12  0.964427       150        94          5   \n",
       "4  experiment_005a  3966087       7  0.936759       144        93         11   \n",
       "5  experiment_005b  4110284       7  0.968379       149        96          6   \n",
       "\n",
       "   false_neg  pos_recall  neg_recall  pos_precision  neg_precision  \\\n",
       "0          4    0.974194    0.959184       0.974194       0.959184   \n",
       "1          4    0.954839    0.959184       0.973684       0.930693   \n",
       "2          4    0.993548    0.959184       0.974684       0.989474   \n",
       "3          4    0.967742    0.959184       0.974026       0.949495   \n",
       "4          5    0.929032    0.948980       0.966443       0.894231   \n",
       "5          2    0.961290    0.979592       0.986755       0.941176   \n",
       "\n",
       "   pos_f1-score  neg_f1-score  \n",
       "0      0.974194      0.959184  \n",
       "1      0.964169      0.944724  \n",
       "2      0.984026      0.974093  \n",
       "3      0.970874      0.954315  \n",
       "4      0.947368      0.920792  \n",
       "5      0.973856      0.960000  "
      ]
     },
     "execution_count": 5,
     "metadata": {},
     "output_type": "execute_result"
    }
   ],
   "source": [
    "data = pd.DataFrame(results)\n",
    "data"
   ]
  },
  {
   "cell_type": "code",
   "execution_count": 6,
   "metadata": {
    "scrolled": true
   },
   "outputs": [],
   "source": [
    "data = data.set_index(\"name\")"
   ]
  },
  {
   "cell_type": "code",
   "execution_count": 7,
   "metadata": {},
   "outputs": [],
   "source": [
    "data.to_csv(\"results.csv\")"
   ]
  }
 ],
 "metadata": {
  "kernelspec": {
   "display_name": "Python 3",
   "language": "python",
   "name": "python3"
  },
  "language_info": {
   "codemirror_mode": {
    "name": "ipython",
    "version": 3
   },
   "file_extension": ".py",
   "mimetype": "text/x-python",
   "name": "python",
   "nbconvert_exporter": "python",
   "pygments_lexer": "ipython3",
   "version": "3.8.6"
  }
 },
 "nbformat": 4,
 "nbformat_minor": 4
}
